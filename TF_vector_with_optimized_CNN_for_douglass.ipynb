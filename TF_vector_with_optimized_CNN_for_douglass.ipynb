{
  "nbformat": 4,
  "nbformat_minor": 0,
  "metadata": {
    "colab": {
      "provenance": []
    },
    "kernelspec": {
      "name": "python3",
      "display_name": "Python 3"
    },
    "language_info": {
      "name": "python"
    }
  },
  "cells": [
    {
      "cell_type": "code",
      "execution_count": 2,
      "metadata": {
        "colab": {
          "base_uri": "https://localhost:8080/"
        },
        "id": "rMAGzW2ecAM2",
        "outputId": "64729ff9-6583-4c7a-f2e0-2237820fd46f"
      },
      "outputs": [
        {
          "output_type": "stream",
          "name": "stdout",
          "text": [
            "2.9.2\n",
            "2.6.0\n"
          ]
        }
      ],
      "source": [
        "import os\n",
        "os.environ['PYTHONHASHSEED'] = '0'\n",
        "import numpy as np\n",
        "import random as rn\n",
        "import tensorflow as tf\n",
        "def reset_seeds():\n",
        "    np.random.seed(1) \n",
        "    rn.seed(1)\n",
        "    tf.random.set_seed(1)\n",
        "reset_seeds() \n",
        "import pandas as pd\n",
        "import matplotlib.pyplot as plt\n",
        "import re\n",
        "from nltk.stem import SnowballStemmer  \n",
        "import string\n",
        "from nltk.tokenize import word_tokenize, sent_tokenize\n",
        "from nltk.corpus import stopwords\n",
        "import tensorflow as tf\n",
        "from tensorflow.python.keras.backend import get_session\n",
        "print(tf.__version__)\n",
        "from tensorflow.python import keras\n",
        "print(keras.__version__)\n",
        "import random as rn\n",
        "from tensorflow.python.keras.backend import get_session\n",
        "from tensorflow.python.keras.models import Sequential\n",
        "from tensorflow.python.keras.layers import Dense\n",
        "from tensorflow.python.keras.layers import Flatten, Dropout, Activation, Input\n",
        "from tensorflow.python.keras.layers.convolutional import Conv1D\n",
        "from tensorflow.python.keras.models import Model\n",
        "from tensorflow.python.keras.layers.convolutional import MaxPooling1D\n"
      ]
    },
    {
      "cell_type": "code",
      "source": [
        "from google.colab import files\n",
        "upload= files.upload()\n",
        "GOFdataset=pd.read_excel('Douglass.xlsx',index_col=None)\n",
        "pd.set_option('display.max_colwidth',None)\n",
        "GOFdataset.head()\n",
        "GOFdataset['description1']=GOFdataset['description'].str.replace(\"\\r\",\"\")\n",
        "GOFdataset['description1']=GOFdataset['description1'].str.lower()\n",
        "punc=list(\"?!^.,\\')•(:-][—+;\\\"//\")\n",
        "GOFdataset['description2']=GOFdataset['description1']\n",
        "for pun in punc:\n",
        "    GOFdataset['description2']=GOFdataset['description2'].str.replace(pun,' ')\n"
      ],
      "metadata": {
        "colab": {
          "base_uri": "https://localhost:8080/",
          "height": 127
        },
        "id": "slpkdqZnceyU",
        "outputId": "77681c9c-36f3-4218-cb19-883710b32b4c"
      },
      "execution_count": 3,
      "outputs": [
        {
          "output_type": "display_data",
          "data": {
            "text/plain": [
              "<IPython.core.display.HTML object>"
            ],
            "text/html": [
              "\n",
              "     <input type=\"file\" id=\"files-268cf05e-403c-49e0-9405-5b88bb63b4e7\" name=\"files[]\" multiple disabled\n",
              "        style=\"border:none\" />\n",
              "     <output id=\"result-268cf05e-403c-49e0-9405-5b88bb63b4e7\">\n",
              "      Upload widget is only available when the cell has been executed in the\n",
              "      current browser session. Please rerun this cell to enable.\n",
              "      </output>\n",
              "      <script>// Copyright 2017 Google LLC\n",
              "//\n",
              "// Licensed under the Apache License, Version 2.0 (the \"License\");\n",
              "// you may not use this file except in compliance with the License.\n",
              "// You may obtain a copy of the License at\n",
              "//\n",
              "//      http://www.apache.org/licenses/LICENSE-2.0\n",
              "//\n",
              "// Unless required by applicable law or agreed to in writing, software\n",
              "// distributed under the License is distributed on an \"AS IS\" BASIS,\n",
              "// WITHOUT WARRANTIES OR CONDITIONS OF ANY KIND, either express or implied.\n",
              "// See the License for the specific language governing permissions and\n",
              "// limitations under the License.\n",
              "\n",
              "/**\n",
              " * @fileoverview Helpers for google.colab Python module.\n",
              " */\n",
              "(function(scope) {\n",
              "function span(text, styleAttributes = {}) {\n",
              "  const element = document.createElement('span');\n",
              "  element.textContent = text;\n",
              "  for (const key of Object.keys(styleAttributes)) {\n",
              "    element.style[key] = styleAttributes[key];\n",
              "  }\n",
              "  return element;\n",
              "}\n",
              "\n",
              "// Max number of bytes which will be uploaded at a time.\n",
              "const MAX_PAYLOAD_SIZE = 100 * 1024;\n",
              "\n",
              "function _uploadFiles(inputId, outputId) {\n",
              "  const steps = uploadFilesStep(inputId, outputId);\n",
              "  const outputElement = document.getElementById(outputId);\n",
              "  // Cache steps on the outputElement to make it available for the next call\n",
              "  // to uploadFilesContinue from Python.\n",
              "  outputElement.steps = steps;\n",
              "\n",
              "  return _uploadFilesContinue(outputId);\n",
              "}\n",
              "\n",
              "// This is roughly an async generator (not supported in the browser yet),\n",
              "// where there are multiple asynchronous steps and the Python side is going\n",
              "// to poll for completion of each step.\n",
              "// This uses a Promise to block the python side on completion of each step,\n",
              "// then passes the result of the previous step as the input to the next step.\n",
              "function _uploadFilesContinue(outputId) {\n",
              "  const outputElement = document.getElementById(outputId);\n",
              "  const steps = outputElement.steps;\n",
              "\n",
              "  const next = steps.next(outputElement.lastPromiseValue);\n",
              "  return Promise.resolve(next.value.promise).then((value) => {\n",
              "    // Cache the last promise value to make it available to the next\n",
              "    // step of the generator.\n",
              "    outputElement.lastPromiseValue = value;\n",
              "    return next.value.response;\n",
              "  });\n",
              "}\n",
              "\n",
              "/**\n",
              " * Generator function which is called between each async step of the upload\n",
              " * process.\n",
              " * @param {string} inputId Element ID of the input file picker element.\n",
              " * @param {string} outputId Element ID of the output display.\n",
              " * @return {!Iterable<!Object>} Iterable of next steps.\n",
              " */\n",
              "function* uploadFilesStep(inputId, outputId) {\n",
              "  const inputElement = document.getElementById(inputId);\n",
              "  inputElement.disabled = false;\n",
              "\n",
              "  const outputElement = document.getElementById(outputId);\n",
              "  outputElement.innerHTML = '';\n",
              "\n",
              "  const pickedPromise = new Promise((resolve) => {\n",
              "    inputElement.addEventListener('change', (e) => {\n",
              "      resolve(e.target.files);\n",
              "    });\n",
              "  });\n",
              "\n",
              "  const cancel = document.createElement('button');\n",
              "  inputElement.parentElement.appendChild(cancel);\n",
              "  cancel.textContent = 'Cancel upload';\n",
              "  const cancelPromise = new Promise((resolve) => {\n",
              "    cancel.onclick = () => {\n",
              "      resolve(null);\n",
              "    };\n",
              "  });\n",
              "\n",
              "  // Wait for the user to pick the files.\n",
              "  const files = yield {\n",
              "    promise: Promise.race([pickedPromise, cancelPromise]),\n",
              "    response: {\n",
              "      action: 'starting',\n",
              "    }\n",
              "  };\n",
              "\n",
              "  cancel.remove();\n",
              "\n",
              "  // Disable the input element since further picks are not allowed.\n",
              "  inputElement.disabled = true;\n",
              "\n",
              "  if (!files) {\n",
              "    return {\n",
              "      response: {\n",
              "        action: 'complete',\n",
              "      }\n",
              "    };\n",
              "  }\n",
              "\n",
              "  for (const file of files) {\n",
              "    const li = document.createElement('li');\n",
              "    li.append(span(file.name, {fontWeight: 'bold'}));\n",
              "    li.append(span(\n",
              "        `(${file.type || 'n/a'}) - ${file.size} bytes, ` +\n",
              "        `last modified: ${\n",
              "            file.lastModifiedDate ? file.lastModifiedDate.toLocaleDateString() :\n",
              "                                    'n/a'} - `));\n",
              "    const percent = span('0% done');\n",
              "    li.appendChild(percent);\n",
              "\n",
              "    outputElement.appendChild(li);\n",
              "\n",
              "    const fileDataPromise = new Promise((resolve) => {\n",
              "      const reader = new FileReader();\n",
              "      reader.onload = (e) => {\n",
              "        resolve(e.target.result);\n",
              "      };\n",
              "      reader.readAsArrayBuffer(file);\n",
              "    });\n",
              "    // Wait for the data to be ready.\n",
              "    let fileData = yield {\n",
              "      promise: fileDataPromise,\n",
              "      response: {\n",
              "        action: 'continue',\n",
              "      }\n",
              "    };\n",
              "\n",
              "    // Use a chunked sending to avoid message size limits. See b/62115660.\n",
              "    let position = 0;\n",
              "    do {\n",
              "      const length = Math.min(fileData.byteLength - position, MAX_PAYLOAD_SIZE);\n",
              "      const chunk = new Uint8Array(fileData, position, length);\n",
              "      position += length;\n",
              "\n",
              "      const base64 = btoa(String.fromCharCode.apply(null, chunk));\n",
              "      yield {\n",
              "        response: {\n",
              "          action: 'append',\n",
              "          file: file.name,\n",
              "          data: base64,\n",
              "        },\n",
              "      };\n",
              "\n",
              "      let percentDone = fileData.byteLength === 0 ?\n",
              "          100 :\n",
              "          Math.round((position / fileData.byteLength) * 100);\n",
              "      percent.textContent = `${percentDone}% done`;\n",
              "\n",
              "    } while (position < fileData.byteLength);\n",
              "  }\n",
              "\n",
              "  // All done.\n",
              "  yield {\n",
              "    response: {\n",
              "      action: 'complete',\n",
              "    }\n",
              "  };\n",
              "}\n",
              "\n",
              "scope.google = scope.google || {};\n",
              "scope.google.colab = scope.google.colab || {};\n",
              "scope.google.colab._files = {\n",
              "  _uploadFiles,\n",
              "  _uploadFilesContinue,\n",
              "};\n",
              "})(self);\n",
              "</script> "
            ]
          },
          "metadata": {}
        },
        {
          "output_type": "stream",
          "name": "stdout",
          "text": [
            "Saving Douglass.xlsx to Douglass.xlsx\n"
          ]
        },
        {
          "output_type": "stream",
          "name": "stderr",
          "text": [
            "<ipython-input-3-fcee66840e9d>:11: FutureWarning: The default value of regex will change from True to False in a future version. In addition, single character regular expressions will *not* be treated as literal strings when regex=True.\n",
            "  GOFdataset['description2']=GOFdataset['description2'].str.replace(pun,' ')\n"
          ]
        }
      ]
    },
    {
      "cell_type": "code",
      "source": [
        "GOFdataset['description3']=GOFdataset['description2'].str.replace(\"'s\", \" \")\n",
        "GOFdataset['description4']=GOFdataset['description3'].str.replace(r'\\s+[a-z0-9]\\s+', ' ')\n",
        "#GOFdataset\n",
        "import nltk\n",
        "nltk.download('stopwords')\n",
        "nrow=len (GOFdataset)\n",
        "tokenizedlist=[]\n",
        "for row in range(0, nrow):\n",
        "    lematizedList=[]\n",
        "    text=GOFdataset.loc[row]['description4']\n",
        "    text_words=[word for word in text.split() if word not in (stopwords.words('english'))]\n",
        "    #print(text_words)\n",
        "    for word in text_words:\n",
        "        stemmer=SnowballStemmer('english')\n",
        "        lematizedList.append(stemmer.stem(word))\n",
        "    stemmed=(lematizedList)\n",
        "    #print(stemmed)\n",
        "    tokenizedlist.append(stemmed)\n",
        "    #print(tokenizedlist) \n",
        "GOFdataset['description5']=tokenizedlist\n",
        "pd.set_option('display.max_colwidth',None)\n",
        "#print(GOFdataset['description5'])\n",
        "\n",
        "finalVocab=GOFdataset['description5'].apply(pd.Series).stack().unique().tolist()\n",
        "print(len(finalVocab))"
      ],
      "metadata": {
        "colab": {
          "base_uri": "https://localhost:8080/"
        },
        "id": "LNTyZeN3cfGv",
        "outputId": "a4ac88a1-f199-44d7-f37d-504f87022340"
      },
      "execution_count": 4,
      "outputs": [
        {
          "output_type": "stream",
          "name": "stderr",
          "text": [
            "<ipython-input-4-978e2da986f6>:2: FutureWarning: The default value of regex will change from True to False in a future version.\n",
            "  GOFdataset['description4']=GOFdataset['description3'].str.replace(r'\\s+[a-z0-9]\\s+', ' ')\n",
            "[nltk_data] Downloading package stopwords to /root/nltk_data...\n",
            "[nltk_data]   Unzipping corpora/stopwords.zip.\n"
          ]
        },
        {
          "output_type": "stream",
          "name": "stdout",
          "text": [
            "642\n"
          ]
        }
      ]
    },
    {
      "cell_type": "code",
      "source": [
        "import math\n",
        "nrow2=len(GOFdataset)\n",
        "TFvec=[]\n",
        "for row2 in range(0, nrow2):\n",
        "    TF={}\n",
        "    docs=GOFdataset.loc[row2]['description5']\n",
        "    for words in finalVocab:\n",
        "        TF[words]=0\n",
        "    for words in docs:\n",
        "        TF[words]+=1\n",
        "        #print(TF)\n",
        "    TFvec.append(TF)\n",
        "    #print(TFvec)\n",
        "GOFdataset['description6']=TFvec\n",
        "#print(GOFdataset['description6'])\n",
        "nrow4=len(GOFdataset)\n",
        "TFVector=[]\n",
        "for row in range(0, nrow4):\n",
        "    tee=GOFdataset.loc[row]['description6']\n",
        "    TFvec=[0]*len(tee)\n",
        "    for i, words in enumerate(tee):\n",
        "        TFvec[i]=tee[words]\n",
        "    #print(TFvec)\n",
        "    TFVector.append(TFvec)\n",
        "    #print(TFVector)\n",
        "pd.set_option('display.max_colwidth',None)\n",
        "GOFdataset['description7']=TFVector\n",
        "#GOFdataset['description7']"
      ],
      "metadata": {
        "id": "fekGMixscfP0"
      },
      "execution_count": 5,
      "outputs": []
    },
    {
      "cell_type": "code",
      "source": [
        "import numpy as np\n",
        "from numpy import unique\n",
        "np.set_printoptions(threshold=np.inf)\n",
        "TF=np.array([i for i in GOFdataset['description7']]).astype(np.float32)\n",
        "x = TF.reshape(TF.shape[0], TF.shape[1],1)\n",
        "print(x.shape)\n",
        "y=np.array([i for i in GOFdataset['label']])\n",
        "   "
      ],
      "metadata": {
        "colab": {
          "base_uri": "https://localhost:8080/"
        },
        "id": "BCPMAhrrcfZ6",
        "outputId": "584ea279-af7f-49ad-deec-bf0620dcb9db"
      },
      "execution_count": 6,
      "outputs": [
        {
          "output_type": "stream",
          "name": "stdout",
          "text": [
            "(34, 642, 1)\n"
          ]
        }
      ]
    },
    {
      "cell_type": "code",
      "source": [
        "from sklearn.model_selection import train_test_split\n",
        "from tensorflow.python.keras.backend import get_session\n",
        "from tensorflow.python.keras.models import Sequential ,load_model\n",
        "from tensorflow.python.keras.layers import Dense\n",
        "from tensorflow.python.keras.layers import Flatten, Dropout, Activation, Input\n",
        "from tensorflow.python.keras.layers.convolutional import Conv1D\n",
        "from tensorflow.python.keras.models import Model\n",
        "from tensorflow.python.keras.layers.convolutional import MaxPooling1D\n",
        "from tensorflow.python.keras.wrappers.scikit_learn import KerasClassifier\n",
        "from tensorflow.python.keras import regularizers\n",
        "from keras import metrics\n",
        "from sklearn.metrics import f1_score\n",
        "from sklearn.tree import DecisionTreeClassifier\n",
        "from sklearn.naive_bayes import MultinomialNB\n",
        "from sklearn.neighbors import KNeighborsClassifier\n",
        "from sklearn.model_selection import KFold \n",
        "from sklearn.preprocessing import MinMaxScaler\n",
        "reset_seeds() \n",
        "model = Sequential()\n",
        "init=keras.initializers.HeNormal(seed=None)\n",
        "bias=keras.initializers.Constant()\n",
        "model.add(Conv1D(filters=128, kernel_size=3, padding='same', kernel_initializer=keras.initializers.HeNormal(),input_shape=(642,1)))\n",
        "model.add(Activation('relu'))\n",
        "model.add(Conv1D(filters=128, kernel_size=3, padding='same', kernel_initializer=keras.initializers.HeNormal()))\n",
        "model.add(Activation('relu'))\n",
        "model.add(MaxPooling1D(pool_size=2, data_format='channels_last'))\n",
        "model.add(Dropout(0.2))\n",
        "model.add(Flatten())\n",
        "model.add(Dense(642,  bias_initializer=bias,name='Dense_2'))\n",
        "model.add(Activation('relu'))\n",
        "reset_seeds() \n",
        "feature_vectors_model = Model(inputs=model.input, outputs=model.get_layer('Dense_2').output)\n",
        "dtc_features = feature_vectors_model.predict(x)\n",
        "scaler = MinMaxScaler()\n",
        "scaled= scaler.fit_transform(dtc_features)\n",
        "scores = []\n",
        "best_svr = MultinomialNB()\n",
        "cv = KFold(n_splits=10, shuffle=True)\n",
        "for train_index, test_index in cv.split(scaled,y):\n",
        "    X_train, X_test, y_train, y_test = train_test_split(scaled, y, test_size=0.30,  stratify=y)\n",
        "    best_svr.fit(X_train, y_train)\n",
        "    pred=(best_svr.predict(X_test))\n",
        "    scores.append(f1_score(y_test, pred, average='micro'))\n",
        "print(np.mean(scores))\n",
        "print((scores))\n"
      ],
      "metadata": {
        "colab": {
          "base_uri": "https://localhost:8080/"
        },
        "id": "kNkxoK_bcfix",
        "outputId": "eb3e86b4-f6b7-48ae-dc28-7b3d1d27a157"
      },
      "execution_count": 47,
      "outputs": [
        {
          "output_type": "stream",
          "name": "stdout",
          "text": [
            "0.8272727272727272\n",
            "[0.9090909090909091, 0.9090909090909091, 0.7272727272727273, 0.7272727272727273, 0.9090909090909091, 0.8181818181818182, 0.9090909090909091, 0.8181818181818182, 0.9090909090909091, 0.6363636363636364]\n"
          ]
        }
      ]
    },
    {
      "cell_type": "code",
      "source": [],
      "metadata": {
        "id": "iQussSV2S6L1"
      },
      "execution_count": null,
      "outputs": []
    },
    {
      "cell_type": "code",
      "source": [],
      "metadata": {
        "id": "TOf0ZAA-9bhh"
      },
      "execution_count": null,
      "outputs": []
    },
    {
      "cell_type": "code",
      "source": [],
      "metadata": {
        "id": "waCxOPfo-Gp0"
      },
      "execution_count": null,
      "outputs": []
    },
    {
      "cell_type": "code",
      "source": [],
      "metadata": {
        "id": "MMegKU9ncfqM"
      },
      "execution_count": null,
      "outputs": []
    },
    {
      "cell_type": "code",
      "source": [],
      "metadata": {
        "id": "7HhVOqCvcf28"
      },
      "execution_count": null,
      "outputs": []
    },
    {
      "cell_type": "code",
      "source": [],
      "metadata": {
        "id": "-53P6UsrN09Y"
      },
      "execution_count": null,
      "outputs": []
    },
    {
      "cell_type": "code",
      "source": [],
      "metadata": {
        "id": "B1vsAK21N1H9"
      },
      "execution_count": null,
      "outputs": []
    },
    {
      "cell_type": "code",
      "source": [],
      "metadata": {
        "id": "7nTp9EIhN1Rr"
      },
      "execution_count": null,
      "outputs": []
    },
    {
      "cell_type": "code",
      "source": [],
      "metadata": {
        "id": "29Dh2mVFN1bR"
      },
      "execution_count": null,
      "outputs": []
    },
    {
      "cell_type": "code",
      "source": [],
      "metadata": {
        "id": "ZH5NaCvCN1j-"
      },
      "execution_count": null,
      "outputs": []
    },
    {
      "cell_type": "code",
      "source": [],
      "metadata": {
        "id": "rGwJRqo-N1sP"
      },
      "execution_count": null,
      "outputs": []
    },
    {
      "cell_type": "code",
      "source": [],
      "metadata": {
        "id": "dEvJxdTiN11s"
      },
      "execution_count": null,
      "outputs": []
    },
    {
      "cell_type": "code",
      "source": [],
      "metadata": {
        "id": "2cBMR9W0N1-o"
      },
      "execution_count": null,
      "outputs": []
    },
    {
      "cell_type": "code",
      "source": [],
      "metadata": {
        "id": "EVYddBbJN2Io"
      },
      "execution_count": null,
      "outputs": []
    },
    {
      "cell_type": "code",
      "source": [],
      "metadata": {
        "id": "IEjajRufcgFu"
      },
      "execution_count": null,
      "outputs": []
    }
  ]
}