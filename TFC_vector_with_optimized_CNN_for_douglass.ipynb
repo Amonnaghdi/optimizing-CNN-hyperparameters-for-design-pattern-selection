{
  "nbformat": 4,
  "nbformat_minor": 0,
  "metadata": {
    "colab": {
      "provenance": []
    },
    "kernelspec": {
      "name": "python3",
      "display_name": "Python 3"
    },
    "language_info": {
      "name": "python"
    }
  },
  "cells": [
    {
      "cell_type": "code",
      "execution_count": 1,
      "metadata": {
        "colab": {
          "base_uri": "https://localhost:8080/"
        },
        "id": "W6d1pdENyQLX",
        "outputId": "eda710f4-a627-4702-df37-dbe8651d6b85"
      },
      "outputs": [
        {
          "output_type": "stream",
          "name": "stdout",
          "text": [
            "2.9.2\n",
            "2.6.0\n"
          ]
        }
      ],
      "source": [
        "import os\n",
        "os.environ['PYTHONHASHSEED'] = '0'\n",
        "import numpy as np\n",
        "import random as rn\n",
        "import tensorflow as tf\n",
        "def reset_seeds():\n",
        "    np.random.seed(1) \n",
        "    rn.seed(1)\n",
        "    tf.random.set_seed(1)\n",
        "reset_seeds() \n",
        "import pandas as pd\n",
        "import matplotlib.pyplot as plt\n",
        "import re\n",
        "from nltk.stem import SnowballStemmer  \n",
        "import string\n",
        "from nltk.tokenize import word_tokenize, sent_tokenize\n",
        "from nltk.corpus import stopwords\n",
        "import tensorflow as tf\n",
        "from tensorflow.python.keras.backend import get_session\n",
        "print(tf.__version__)\n",
        "from tensorflow.python import keras\n",
        "print(keras.__version__)\n",
        "import random as rn\n",
        "from tensorflow.python.keras.backend import get_session\n",
        "from tensorflow.python.keras.models import Sequential\n",
        "from tensorflow.python.keras.layers import Dense\n",
        "from tensorflow.python.keras.layers import Flatten, Dropout, Activation, Input\n",
        "from tensorflow.python.keras.layers.convolutional import Conv1D\n",
        "from tensorflow.python.keras.models import Model\n",
        "from tensorflow.python.keras.layers.convolutional import MaxPooling1D\n"
      ]
    },
    {
      "cell_type": "code",
      "source": [
        "from google.colab import files\n",
        "upload= files.upload()\n",
        "GOFdataset=pd.read_excel('Douglass.xlsx',index_col=None)\n",
        "pd.set_option('display.max_colwidth',None)\n",
        "GOFdataset.head()\n",
        "GOFdataset['description1']=GOFdataset['description'].str.replace(\"\\r\",\"\")\n",
        "GOFdataset['description1']=GOFdataset['description1'].str.lower()\n",
        "punc=list(\"?!^.,\\')•(:-][—+;\\\"//\")\n",
        "GOFdataset['description2']=GOFdataset['description1']\n",
        "for pun in punc:\n",
        "    GOFdataset['description2']=GOFdataset['description2'].str.replace(pun,' ')\n"
      ],
      "metadata": {
        "colab": {
          "base_uri": "https://localhost:8080/",
          "height": 127
        },
        "id": "m7ckxcx8yZhb",
        "outputId": "b6b0eef7-3bb8-4c7e-a3d1-9210c8b0e751"
      },
      "execution_count": 2,
      "outputs": [
        {
          "output_type": "display_data",
          "data": {
            "text/plain": [
              "<IPython.core.display.HTML object>"
            ],
            "text/html": [
              "\n",
              "     <input type=\"file\" id=\"files-4e75c83d-1c18-44a5-91b7-c9bf58a86186\" name=\"files[]\" multiple disabled\n",
              "        style=\"border:none\" />\n",
              "     <output id=\"result-4e75c83d-1c18-44a5-91b7-c9bf58a86186\">\n",
              "      Upload widget is only available when the cell has been executed in the\n",
              "      current browser session. Please rerun this cell to enable.\n",
              "      </output>\n",
              "      <script>// Copyright 2017 Google LLC\n",
              "//\n",
              "// Licensed under the Apache License, Version 2.0 (the \"License\");\n",
              "// you may not use this file except in compliance with the License.\n",
              "// You may obtain a copy of the License at\n",
              "//\n",
              "//      http://www.apache.org/licenses/LICENSE-2.0\n",
              "//\n",
              "// Unless required by applicable law or agreed to in writing, software\n",
              "// distributed under the License is distributed on an \"AS IS\" BASIS,\n",
              "// WITHOUT WARRANTIES OR CONDITIONS OF ANY KIND, either express or implied.\n",
              "// See the License for the specific language governing permissions and\n",
              "// limitations under the License.\n",
              "\n",
              "/**\n",
              " * @fileoverview Helpers for google.colab Python module.\n",
              " */\n",
              "(function(scope) {\n",
              "function span(text, styleAttributes = {}) {\n",
              "  const element = document.createElement('span');\n",
              "  element.textContent = text;\n",
              "  for (const key of Object.keys(styleAttributes)) {\n",
              "    element.style[key] = styleAttributes[key];\n",
              "  }\n",
              "  return element;\n",
              "}\n",
              "\n",
              "// Max number of bytes which will be uploaded at a time.\n",
              "const MAX_PAYLOAD_SIZE = 100 * 1024;\n",
              "\n",
              "function _uploadFiles(inputId, outputId) {\n",
              "  const steps = uploadFilesStep(inputId, outputId);\n",
              "  const outputElement = document.getElementById(outputId);\n",
              "  // Cache steps on the outputElement to make it available for the next call\n",
              "  // to uploadFilesContinue from Python.\n",
              "  outputElement.steps = steps;\n",
              "\n",
              "  return _uploadFilesContinue(outputId);\n",
              "}\n",
              "\n",
              "// This is roughly an async generator (not supported in the browser yet),\n",
              "// where there are multiple asynchronous steps and the Python side is going\n",
              "// to poll for completion of each step.\n",
              "// This uses a Promise to block the python side on completion of each step,\n",
              "// then passes the result of the previous step as the input to the next step.\n",
              "function _uploadFilesContinue(outputId) {\n",
              "  const outputElement = document.getElementById(outputId);\n",
              "  const steps = outputElement.steps;\n",
              "\n",
              "  const next = steps.next(outputElement.lastPromiseValue);\n",
              "  return Promise.resolve(next.value.promise).then((value) => {\n",
              "    // Cache the last promise value to make it available to the next\n",
              "    // step of the generator.\n",
              "    outputElement.lastPromiseValue = value;\n",
              "    return next.value.response;\n",
              "  });\n",
              "}\n",
              "\n",
              "/**\n",
              " * Generator function which is called between each async step of the upload\n",
              " * process.\n",
              " * @param {string} inputId Element ID of the input file picker element.\n",
              " * @param {string} outputId Element ID of the output display.\n",
              " * @return {!Iterable<!Object>} Iterable of next steps.\n",
              " */\n",
              "function* uploadFilesStep(inputId, outputId) {\n",
              "  const inputElement = document.getElementById(inputId);\n",
              "  inputElement.disabled = false;\n",
              "\n",
              "  const outputElement = document.getElementById(outputId);\n",
              "  outputElement.innerHTML = '';\n",
              "\n",
              "  const pickedPromise = new Promise((resolve) => {\n",
              "    inputElement.addEventListener('change', (e) => {\n",
              "      resolve(e.target.files);\n",
              "    });\n",
              "  });\n",
              "\n",
              "  const cancel = document.createElement('button');\n",
              "  inputElement.parentElement.appendChild(cancel);\n",
              "  cancel.textContent = 'Cancel upload';\n",
              "  const cancelPromise = new Promise((resolve) => {\n",
              "    cancel.onclick = () => {\n",
              "      resolve(null);\n",
              "    };\n",
              "  });\n",
              "\n",
              "  // Wait for the user to pick the files.\n",
              "  const files = yield {\n",
              "    promise: Promise.race([pickedPromise, cancelPromise]),\n",
              "    response: {\n",
              "      action: 'starting',\n",
              "    }\n",
              "  };\n",
              "\n",
              "  cancel.remove();\n",
              "\n",
              "  // Disable the input element since further picks are not allowed.\n",
              "  inputElement.disabled = true;\n",
              "\n",
              "  if (!files) {\n",
              "    return {\n",
              "      response: {\n",
              "        action: 'complete',\n",
              "      }\n",
              "    };\n",
              "  }\n",
              "\n",
              "  for (const file of files) {\n",
              "    const li = document.createElement('li');\n",
              "    li.append(span(file.name, {fontWeight: 'bold'}));\n",
              "    li.append(span(\n",
              "        `(${file.type || 'n/a'}) - ${file.size} bytes, ` +\n",
              "        `last modified: ${\n",
              "            file.lastModifiedDate ? file.lastModifiedDate.toLocaleDateString() :\n",
              "                                    'n/a'} - `));\n",
              "    const percent = span('0% done');\n",
              "    li.appendChild(percent);\n",
              "\n",
              "    outputElement.appendChild(li);\n",
              "\n",
              "    const fileDataPromise = new Promise((resolve) => {\n",
              "      const reader = new FileReader();\n",
              "      reader.onload = (e) => {\n",
              "        resolve(e.target.result);\n",
              "      };\n",
              "      reader.readAsArrayBuffer(file);\n",
              "    });\n",
              "    // Wait for the data to be ready.\n",
              "    let fileData = yield {\n",
              "      promise: fileDataPromise,\n",
              "      response: {\n",
              "        action: 'continue',\n",
              "      }\n",
              "    };\n",
              "\n",
              "    // Use a chunked sending to avoid message size limits. See b/62115660.\n",
              "    let position = 0;\n",
              "    do {\n",
              "      const length = Math.min(fileData.byteLength - position, MAX_PAYLOAD_SIZE);\n",
              "      const chunk = new Uint8Array(fileData, position, length);\n",
              "      position += length;\n",
              "\n",
              "      const base64 = btoa(String.fromCharCode.apply(null, chunk));\n",
              "      yield {\n",
              "        response: {\n",
              "          action: 'append',\n",
              "          file: file.name,\n",
              "          data: base64,\n",
              "        },\n",
              "      };\n",
              "\n",
              "      let percentDone = fileData.byteLength === 0 ?\n",
              "          100 :\n",
              "          Math.round((position / fileData.byteLength) * 100);\n",
              "      percent.textContent = `${percentDone}% done`;\n",
              "\n",
              "    } while (position < fileData.byteLength);\n",
              "  }\n",
              "\n",
              "  // All done.\n",
              "  yield {\n",
              "    response: {\n",
              "      action: 'complete',\n",
              "    }\n",
              "  };\n",
              "}\n",
              "\n",
              "scope.google = scope.google || {};\n",
              "scope.google.colab = scope.google.colab || {};\n",
              "scope.google.colab._files = {\n",
              "  _uploadFiles,\n",
              "  _uploadFilesContinue,\n",
              "};\n",
              "})(self);\n",
              "</script> "
            ]
          },
          "metadata": {}
        },
        {
          "output_type": "stream",
          "name": "stdout",
          "text": [
            "Saving Douglass.xlsx to Douglass.xlsx\n"
          ]
        },
        {
          "output_type": "stream",
          "name": "stderr",
          "text": [
            "<ipython-input-2-fcee66840e9d>:11: FutureWarning: The default value of regex will change from True to False in a future version. In addition, single character regular expressions will *not* be treated as literal strings when regex=True.\n",
            "  GOFdataset['description2']=GOFdataset['description2'].str.replace(pun,' ')\n"
          ]
        }
      ]
    },
    {
      "cell_type": "code",
      "source": [
        "GOFdataset['description3']=GOFdataset['description2'].str.replace(\"'s\", \" \")\n",
        "GOFdataset['description4']=GOFdataset['description3'].str.replace(r'\\s+[a-z0-9]\\s+', ' ')\n",
        "#GOFdataset\n",
        "\n",
        "import nltk\n",
        "nltk.download('stopwords')\n",
        "nrow=len (GOFdataset)\n",
        "tokenizedlist=[]\n",
        "for row in range(0, nrow):\n",
        "    lematizedList=[]\n",
        "    text=GOFdataset.loc[row]['description4']\n",
        "    text_words=[word for word in text.split() if word not in (stopwords.words('english'))]\n",
        "    #print(text_words)\n",
        "    for word in text_words:\n",
        "        stemmer=SnowballStemmer('english')\n",
        "        lematizedList.append(stemmer.stem(word))\n",
        "    stemmed=(lematizedList)\n",
        "    #print(stemmed)\n",
        "    tokenizedlist.append(stemmed)\n",
        "    #print(tokenizedlist) \n",
        "GOFdataset['description5']=tokenizedlist\n",
        "pd.set_option('display.max_colwidth',None)\n",
        "#print(GOFdataset['description5'])\n",
        "\n",
        "\n",
        "finalVocab=GOFdataset['description5'].apply(pd.Series).stack().unique().tolist()\n",
        "print(len(finalVocab))"
      ],
      "metadata": {
        "colab": {
          "base_uri": "https://localhost:8080/"
        },
        "id": "BumLlZGHyZr2",
        "outputId": "121a7470-aaf5-4176-bc23-0bec06c0c6ce"
      },
      "execution_count": 3,
      "outputs": [
        {
          "output_type": "stream",
          "name": "stderr",
          "text": [
            "<ipython-input-3-16600d47d426>:2: FutureWarning: The default value of regex will change from True to False in a future version.\n",
            "  GOFdataset['description4']=GOFdataset['description3'].str.replace(r'\\s+[a-z0-9]\\s+', ' ')\n",
            "[nltk_data] Downloading package stopwords to /root/nltk_data...\n",
            "[nltk_data]   Unzipping corpora/stopwords.zip.\n"
          ]
        },
        {
          "output_type": "stream",
          "name": "stdout",
          "text": [
            "642\n"
          ]
        }
      ]
    },
    {
      "cell_type": "code",
      "source": [
        "import math\n",
        "nrow=len(GOFdataset)\n",
        "ikvec=[]\n",
        "for row in range(0, nrow):\n",
        "    ik={}\n",
        "    data=GOFdataset.loc[row]['description5']\n",
        "    for words in finalVocab:\n",
        "        ik[words]=0\n",
        "    for words in data:\n",
        "        ik[words]+=1  \n",
        "    ikvec.append(ik)\n",
        "GOFdataset['description6']=ikvec    \n",
        "#print(GOFdataset['description6'])\n",
        "\n",
        "nrow1=len(GOFdataset)\n",
        "ikVector=[]\n",
        "for row1 in range(0, nrow1):\n",
        "    tee=GOFdataset.loc[row1]['description6']\n",
        "    ikvec=[0]*len(tee)\n",
        "    for i, words in enumerate(tee):\n",
        "        ikvec[i]=tee[words]\n",
        "    #print(ikvec)\n",
        "    ikVector.append(ikvec)\n",
        "    #print(ikVector)\n",
        "pd.set_option('display.max_colwidth',None)\n",
        "GOFdataset['description7']=ikVector\n",
        "#GOFdataset['description7']"
      ],
      "metadata": {
        "id": "zX6PI1yJyZ4I"
      },
      "execution_count": 4,
      "outputs": []
    },
    {
      "cell_type": "code",
      "source": [
        "import math\n",
        "nrow2=len(GOFdataset)\n",
        "i=1\n",
        "IDF={}\n",
        "IDFvec=[]\n",
        "N=len(GOFdataset)\n",
        "for words in finalVocab:\n",
        "    IDF[words]=0\n",
        "    for row2 in range(0, nrow2):\n",
        "        data2=GOFdataset.loc[row2]['description5']\n",
        "        if words in data2:\n",
        "            IDF[words]+=1\n",
        "            #print(IDF)\n",
        "for words in IDF:\n",
        "    IDF[words]=IDF[words]\n",
        "while i<35:\n",
        "    IDFfinal=IDF\n",
        "    #print(IDFfinal)\n",
        "    i+=1\n",
        "    IDFvec.append(IDFfinal)\n",
        "    #print(IDFvec)\n",
        "GOFdataset['description8']=IDFvec\n",
        "#print(GOFdataset['description8'])\n",
        "\n",
        "\n",
        "nrow3=len(GOFdataset)\n",
        "IDFVector=[]\n",
        "for row3 in range(0, nrow3):\n",
        "    teee=GOFdataset.loc[row3]['description8']\n",
        "    IDFvec=[0]*len(teee)\n",
        "    for i, words in enumerate(teee):\n",
        "        IDFvec[i]=teee[words]\n",
        "    #print(IDFvec)\n",
        "    IDFVector.append(IDFvec)\n",
        "    #print(IDFVector)\n",
        "pd.set_option('display.max_colwidth',None)\n",
        "GOFdataset['description9']=IDFVector\n",
        "#GOFdataset['description9']\n"
      ],
      "metadata": {
        "id": "VEBU_OqEyaDn"
      },
      "execution_count": 5,
      "outputs": []
    },
    {
      "cell_type": "code",
      "source": [
        "import math\n",
        "nrow4=len(GOFdataset)\n",
        "ijvec=[]\n",
        "for row4 in range(0, nrow4):\n",
        "    ij={}\n",
        "    data3=GOFdataset.loc[row4]['description5']\n",
        "    for words in finalVocab:\n",
        "        ij[words]=0\n",
        "    for words in data3:\n",
        "        ij[words]+=1  \n",
        "    ijvec.append(ij)\n",
        "GOFdataset['description10']=ijvec    \n",
        "#print(GOFdataset['description10'])\n",
        "\n",
        "from collections import Counter\n",
        "import collections, functools, operator\n",
        "nrow5=len(GOFdataset)\n",
        "IJ={}\n",
        "IJvec=[]\n",
        "for row5 in range(0, nrow5):\n",
        "    data4=GOFdataset.loc[row5]['description10']\n",
        "    for words in finalVocab:\n",
        "        if words in data4:\n",
        "            IJ=dict(functools.reduce(operator.add, map(collections.Counter, ijvec)))\n",
        "    IJvec.append(IJ)\n",
        "GOFdataset['description11']=IJvec    \n",
        "#print(GOFdataset['description11'])   \n",
        "\n",
        "nrow6=len(GOFdataset)\n",
        "IJVector=[]\n",
        "for row6 in range(0, nrow6):\n",
        "    tee2=GOFdataset.loc[row6]['description11']\n",
        "    IJvec=[0]*len(tee2)\n",
        "    for i, words in enumerate(tee2):\n",
        "        IJvec[i]=tee2[words]\n",
        "    #print(IJvec)\n",
        "    IJVector.append(IJvec)\n",
        "    #print(IJVector)\n",
        "pd.set_option('display.max_colwidth',None)\n",
        "GOFdataset['description12']=IJVector\n",
        "GOFdataset['description12']\n"
      ],
      "metadata": {
        "colab": {
          "base_uri": "https://localhost:8080/"
        },
        "id": "o4l6EFhFylm3",
        "outputId": "f886aac1-7121-4890-f878-88576c9f9f56"
      },
      "execution_count": 6,
      "outputs": [
        {
          "output_type": "execute_result",
          "data": {
            "text/plain": [
              "0     [3, 65, 2, 3, 1, 15, 6, 1, 2, 1, 17, 12, 1, 7, 1, 7, 2, 10, 27, 18, 7, 45, 30, 1, 1, 5, 11, 10, 4, 1, 2, 1, 5, 19, 5, 6, 8, 3, 1, 2, 18, 18, 13, 5, 2, 3, 2, 2, 1, 16, 10, 6, 1, 2, 5, 8, 1, 22, 13, 1, 1, 2, 17, 7, 1, 2, 13, 11, 1, 1, 1, 1, 1, 7, 1, 1, 8, 2, 17, 10, 7, 2, 4, 32, 1, 2, 1, 1, 2, 1, 7, 1, 7, 3, 10, 12, 1, 3, 11, 1, ...]\n",
              "1     [3, 65, 2, 3, 1, 15, 6, 1, 2, 1, 17, 12, 1, 7, 1, 7, 2, 10, 27, 18, 7, 45, 30, 1, 1, 5, 11, 10, 4, 1, 2, 1, 5, 19, 5, 6, 8, 3, 1, 2, 18, 18, 13, 5, 2, 3, 2, 2, 1, 16, 10, 6, 1, 2, 5, 8, 1, 22, 13, 1, 1, 2, 17, 7, 1, 2, 13, 11, 1, 1, 1, 1, 1, 7, 1, 1, 8, 2, 17, 10, 7, 2, 4, 32, 1, 2, 1, 1, 2, 1, 7, 1, 7, 3, 10, 12, 1, 3, 11, 1, ...]\n",
              "2     [3, 65, 2, 3, 1, 15, 6, 1, 2, 1, 17, 12, 1, 7, 1, 7, 2, 10, 27, 18, 7, 45, 30, 1, 1, 5, 11, 10, 4, 1, 2, 1, 5, 19, 5, 6, 8, 3, 1, 2, 18, 18, 13, 5, 2, 3, 2, 2, 1, 16, 10, 6, 1, 2, 5, 8, 1, 22, 13, 1, 1, 2, 17, 7, 1, 2, 13, 11, 1, 1, 1, 1, 1, 7, 1, 1, 8, 2, 17, 10, 7, 2, 4, 32, 1, 2, 1, 1, 2, 1, 7, 1, 7, 3, 10, 12, 1, 3, 11, 1, ...]\n",
              "3     [3, 65, 2, 3, 1, 15, 6, 1, 2, 1, 17, 12, 1, 7, 1, 7, 2, 10, 27, 18, 7, 45, 30, 1, 1, 5, 11, 10, 4, 1, 2, 1, 5, 19, 5, 6, 8, 3, 1, 2, 18, 18, 13, 5, 2, 3, 2, 2, 1, 16, 10, 6, 1, 2, 5, 8, 1, 22, 13, 1, 1, 2, 17, 7, 1, 2, 13, 11, 1, 1, 1, 1, 1, 7, 1, 1, 8, 2, 17, 10, 7, 2, 4, 32, 1, 2, 1, 1, 2, 1, 7, 1, 7, 3, 10, 12, 1, 3, 11, 1, ...]\n",
              "4     [3, 65, 2, 3, 1, 15, 6, 1, 2, 1, 17, 12, 1, 7, 1, 7, 2, 10, 27, 18, 7, 45, 30, 1, 1, 5, 11, 10, 4, 1, 2, 1, 5, 19, 5, 6, 8, 3, 1, 2, 18, 18, 13, 5, 2, 3, 2, 2, 1, 16, 10, 6, 1, 2, 5, 8, 1, 22, 13, 1, 1, 2, 17, 7, 1, 2, 13, 11, 1, 1, 1, 1, 1, 7, 1, 1, 8, 2, 17, 10, 7, 2, 4, 32, 1, 2, 1, 1, 2, 1, 7, 1, 7, 3, 10, 12, 1, 3, 11, 1, ...]\n",
              "5     [3, 65, 2, 3, 1, 15, 6, 1, 2, 1, 17, 12, 1, 7, 1, 7, 2, 10, 27, 18, 7, 45, 30, 1, 1, 5, 11, 10, 4, 1, 2, 1, 5, 19, 5, 6, 8, 3, 1, 2, 18, 18, 13, 5, 2, 3, 2, 2, 1, 16, 10, 6, 1, 2, 5, 8, 1, 22, 13, 1, 1, 2, 17, 7, 1, 2, 13, 11, 1, 1, 1, 1, 1, 7, 1, 1, 8, 2, 17, 10, 7, 2, 4, 32, 1, 2, 1, 1, 2, 1, 7, 1, 7, 3, 10, 12, 1, 3, 11, 1, ...]\n",
              "6     [3, 65, 2, 3, 1, 15, 6, 1, 2, 1, 17, 12, 1, 7, 1, 7, 2, 10, 27, 18, 7, 45, 30, 1, 1, 5, 11, 10, 4, 1, 2, 1, 5, 19, 5, 6, 8, 3, 1, 2, 18, 18, 13, 5, 2, 3, 2, 2, 1, 16, 10, 6, 1, 2, 5, 8, 1, 22, 13, 1, 1, 2, 17, 7, 1, 2, 13, 11, 1, 1, 1, 1, 1, 7, 1, 1, 8, 2, 17, 10, 7, 2, 4, 32, 1, 2, 1, 1, 2, 1, 7, 1, 7, 3, 10, 12, 1, 3, 11, 1, ...]\n",
              "7     [3, 65, 2, 3, 1, 15, 6, 1, 2, 1, 17, 12, 1, 7, 1, 7, 2, 10, 27, 18, 7, 45, 30, 1, 1, 5, 11, 10, 4, 1, 2, 1, 5, 19, 5, 6, 8, 3, 1, 2, 18, 18, 13, 5, 2, 3, 2, 2, 1, 16, 10, 6, 1, 2, 5, 8, 1, 22, 13, 1, 1, 2, 17, 7, 1, 2, 13, 11, 1, 1, 1, 1, 1, 7, 1, 1, 8, 2, 17, 10, 7, 2, 4, 32, 1, 2, 1, 1, 2, 1, 7, 1, 7, 3, 10, 12, 1, 3, 11, 1, ...]\n",
              "8     [3, 65, 2, 3, 1, 15, 6, 1, 2, 1, 17, 12, 1, 7, 1, 7, 2, 10, 27, 18, 7, 45, 30, 1, 1, 5, 11, 10, 4, 1, 2, 1, 5, 19, 5, 6, 8, 3, 1, 2, 18, 18, 13, 5, 2, 3, 2, 2, 1, 16, 10, 6, 1, 2, 5, 8, 1, 22, 13, 1, 1, 2, 17, 7, 1, 2, 13, 11, 1, 1, 1, 1, 1, 7, 1, 1, 8, 2, 17, 10, 7, 2, 4, 32, 1, 2, 1, 1, 2, 1, 7, 1, 7, 3, 10, 12, 1, 3, 11, 1, ...]\n",
              "9     [3, 65, 2, 3, 1, 15, 6, 1, 2, 1, 17, 12, 1, 7, 1, 7, 2, 10, 27, 18, 7, 45, 30, 1, 1, 5, 11, 10, 4, 1, 2, 1, 5, 19, 5, 6, 8, 3, 1, 2, 18, 18, 13, 5, 2, 3, 2, 2, 1, 16, 10, 6, 1, 2, 5, 8, 1, 22, 13, 1, 1, 2, 17, 7, 1, 2, 13, 11, 1, 1, 1, 1, 1, 7, 1, 1, 8, 2, 17, 10, 7, 2, 4, 32, 1, 2, 1, 1, 2, 1, 7, 1, 7, 3, 10, 12, 1, 3, 11, 1, ...]\n",
              "10    [3, 65, 2, 3, 1, 15, 6, 1, 2, 1, 17, 12, 1, 7, 1, 7, 2, 10, 27, 18, 7, 45, 30, 1, 1, 5, 11, 10, 4, 1, 2, 1, 5, 19, 5, 6, 8, 3, 1, 2, 18, 18, 13, 5, 2, 3, 2, 2, 1, 16, 10, 6, 1, 2, 5, 8, 1, 22, 13, 1, 1, 2, 17, 7, 1, 2, 13, 11, 1, 1, 1, 1, 1, 7, 1, 1, 8, 2, 17, 10, 7, 2, 4, 32, 1, 2, 1, 1, 2, 1, 7, 1, 7, 3, 10, 12, 1, 3, 11, 1, ...]\n",
              "11    [3, 65, 2, 3, 1, 15, 6, 1, 2, 1, 17, 12, 1, 7, 1, 7, 2, 10, 27, 18, 7, 45, 30, 1, 1, 5, 11, 10, 4, 1, 2, 1, 5, 19, 5, 6, 8, 3, 1, 2, 18, 18, 13, 5, 2, 3, 2, 2, 1, 16, 10, 6, 1, 2, 5, 8, 1, 22, 13, 1, 1, 2, 17, 7, 1, 2, 13, 11, 1, 1, 1, 1, 1, 7, 1, 1, 8, 2, 17, 10, 7, 2, 4, 32, 1, 2, 1, 1, 2, 1, 7, 1, 7, 3, 10, 12, 1, 3, 11, 1, ...]\n",
              "12    [3, 65, 2, 3, 1, 15, 6, 1, 2, 1, 17, 12, 1, 7, 1, 7, 2, 10, 27, 18, 7, 45, 30, 1, 1, 5, 11, 10, 4, 1, 2, 1, 5, 19, 5, 6, 8, 3, 1, 2, 18, 18, 13, 5, 2, 3, 2, 2, 1, 16, 10, 6, 1, 2, 5, 8, 1, 22, 13, 1, 1, 2, 17, 7, 1, 2, 13, 11, 1, 1, 1, 1, 1, 7, 1, 1, 8, 2, 17, 10, 7, 2, 4, 32, 1, 2, 1, 1, 2, 1, 7, 1, 7, 3, 10, 12, 1, 3, 11, 1, ...]\n",
              "13    [3, 65, 2, 3, 1, 15, 6, 1, 2, 1, 17, 12, 1, 7, 1, 7, 2, 10, 27, 18, 7, 45, 30, 1, 1, 5, 11, 10, 4, 1, 2, 1, 5, 19, 5, 6, 8, 3, 1, 2, 18, 18, 13, 5, 2, 3, 2, 2, 1, 16, 10, 6, 1, 2, 5, 8, 1, 22, 13, 1, 1, 2, 17, 7, 1, 2, 13, 11, 1, 1, 1, 1, 1, 7, 1, 1, 8, 2, 17, 10, 7, 2, 4, 32, 1, 2, 1, 1, 2, 1, 7, 1, 7, 3, 10, 12, 1, 3, 11, 1, ...]\n",
              "14    [3, 65, 2, 3, 1, 15, 6, 1, 2, 1, 17, 12, 1, 7, 1, 7, 2, 10, 27, 18, 7, 45, 30, 1, 1, 5, 11, 10, 4, 1, 2, 1, 5, 19, 5, 6, 8, 3, 1, 2, 18, 18, 13, 5, 2, 3, 2, 2, 1, 16, 10, 6, 1, 2, 5, 8, 1, 22, 13, 1, 1, 2, 17, 7, 1, 2, 13, 11, 1, 1, 1, 1, 1, 7, 1, 1, 8, 2, 17, 10, 7, 2, 4, 32, 1, 2, 1, 1, 2, 1, 7, 1, 7, 3, 10, 12, 1, 3, 11, 1, ...]\n",
              "15    [3, 65, 2, 3, 1, 15, 6, 1, 2, 1, 17, 12, 1, 7, 1, 7, 2, 10, 27, 18, 7, 45, 30, 1, 1, 5, 11, 10, 4, 1, 2, 1, 5, 19, 5, 6, 8, 3, 1, 2, 18, 18, 13, 5, 2, 3, 2, 2, 1, 16, 10, 6, 1, 2, 5, 8, 1, 22, 13, 1, 1, 2, 17, 7, 1, 2, 13, 11, 1, 1, 1, 1, 1, 7, 1, 1, 8, 2, 17, 10, 7, 2, 4, 32, 1, 2, 1, 1, 2, 1, 7, 1, 7, 3, 10, 12, 1, 3, 11, 1, ...]\n",
              "16    [3, 65, 2, 3, 1, 15, 6, 1, 2, 1, 17, 12, 1, 7, 1, 7, 2, 10, 27, 18, 7, 45, 30, 1, 1, 5, 11, 10, 4, 1, 2, 1, 5, 19, 5, 6, 8, 3, 1, 2, 18, 18, 13, 5, 2, 3, 2, 2, 1, 16, 10, 6, 1, 2, 5, 8, 1, 22, 13, 1, 1, 2, 17, 7, 1, 2, 13, 11, 1, 1, 1, 1, 1, 7, 1, 1, 8, 2, 17, 10, 7, 2, 4, 32, 1, 2, 1, 1, 2, 1, 7, 1, 7, 3, 10, 12, 1, 3, 11, 1, ...]\n",
              "17    [3, 65, 2, 3, 1, 15, 6, 1, 2, 1, 17, 12, 1, 7, 1, 7, 2, 10, 27, 18, 7, 45, 30, 1, 1, 5, 11, 10, 4, 1, 2, 1, 5, 19, 5, 6, 8, 3, 1, 2, 18, 18, 13, 5, 2, 3, 2, 2, 1, 16, 10, 6, 1, 2, 5, 8, 1, 22, 13, 1, 1, 2, 17, 7, 1, 2, 13, 11, 1, 1, 1, 1, 1, 7, 1, 1, 8, 2, 17, 10, 7, 2, 4, 32, 1, 2, 1, 1, 2, 1, 7, 1, 7, 3, 10, 12, 1, 3, 11, 1, ...]\n",
              "18    [3, 65, 2, 3, 1, 15, 6, 1, 2, 1, 17, 12, 1, 7, 1, 7, 2, 10, 27, 18, 7, 45, 30, 1, 1, 5, 11, 10, 4, 1, 2, 1, 5, 19, 5, 6, 8, 3, 1, 2, 18, 18, 13, 5, 2, 3, 2, 2, 1, 16, 10, 6, 1, 2, 5, 8, 1, 22, 13, 1, 1, 2, 17, 7, 1, 2, 13, 11, 1, 1, 1, 1, 1, 7, 1, 1, 8, 2, 17, 10, 7, 2, 4, 32, 1, 2, 1, 1, 2, 1, 7, 1, 7, 3, 10, 12, 1, 3, 11, 1, ...]\n",
              "19    [3, 65, 2, 3, 1, 15, 6, 1, 2, 1, 17, 12, 1, 7, 1, 7, 2, 10, 27, 18, 7, 45, 30, 1, 1, 5, 11, 10, 4, 1, 2, 1, 5, 19, 5, 6, 8, 3, 1, 2, 18, 18, 13, 5, 2, 3, 2, 2, 1, 16, 10, 6, 1, 2, 5, 8, 1, 22, 13, 1, 1, 2, 17, 7, 1, 2, 13, 11, 1, 1, 1, 1, 1, 7, 1, 1, 8, 2, 17, 10, 7, 2, 4, 32, 1, 2, 1, 1, 2, 1, 7, 1, 7, 3, 10, 12, 1, 3, 11, 1, ...]\n",
              "20    [3, 65, 2, 3, 1, 15, 6, 1, 2, 1, 17, 12, 1, 7, 1, 7, 2, 10, 27, 18, 7, 45, 30, 1, 1, 5, 11, 10, 4, 1, 2, 1, 5, 19, 5, 6, 8, 3, 1, 2, 18, 18, 13, 5, 2, 3, 2, 2, 1, 16, 10, 6, 1, 2, 5, 8, 1, 22, 13, 1, 1, 2, 17, 7, 1, 2, 13, 11, 1, 1, 1, 1, 1, 7, 1, 1, 8, 2, 17, 10, 7, 2, 4, 32, 1, 2, 1, 1, 2, 1, 7, 1, 7, 3, 10, 12, 1, 3, 11, 1, ...]\n",
              "21    [3, 65, 2, 3, 1, 15, 6, 1, 2, 1, 17, 12, 1, 7, 1, 7, 2, 10, 27, 18, 7, 45, 30, 1, 1, 5, 11, 10, 4, 1, 2, 1, 5, 19, 5, 6, 8, 3, 1, 2, 18, 18, 13, 5, 2, 3, 2, 2, 1, 16, 10, 6, 1, 2, 5, 8, 1, 22, 13, 1, 1, 2, 17, 7, 1, 2, 13, 11, 1, 1, 1, 1, 1, 7, 1, 1, 8, 2, 17, 10, 7, 2, 4, 32, 1, 2, 1, 1, 2, 1, 7, 1, 7, 3, 10, 12, 1, 3, 11, 1, ...]\n",
              "22    [3, 65, 2, 3, 1, 15, 6, 1, 2, 1, 17, 12, 1, 7, 1, 7, 2, 10, 27, 18, 7, 45, 30, 1, 1, 5, 11, 10, 4, 1, 2, 1, 5, 19, 5, 6, 8, 3, 1, 2, 18, 18, 13, 5, 2, 3, 2, 2, 1, 16, 10, 6, 1, 2, 5, 8, 1, 22, 13, 1, 1, 2, 17, 7, 1, 2, 13, 11, 1, 1, 1, 1, 1, 7, 1, 1, 8, 2, 17, 10, 7, 2, 4, 32, 1, 2, 1, 1, 2, 1, 7, 1, 7, 3, 10, 12, 1, 3, 11, 1, ...]\n",
              "23    [3, 65, 2, 3, 1, 15, 6, 1, 2, 1, 17, 12, 1, 7, 1, 7, 2, 10, 27, 18, 7, 45, 30, 1, 1, 5, 11, 10, 4, 1, 2, 1, 5, 19, 5, 6, 8, 3, 1, 2, 18, 18, 13, 5, 2, 3, 2, 2, 1, 16, 10, 6, 1, 2, 5, 8, 1, 22, 13, 1, 1, 2, 17, 7, 1, 2, 13, 11, 1, 1, 1, 1, 1, 7, 1, 1, 8, 2, 17, 10, 7, 2, 4, 32, 1, 2, 1, 1, 2, 1, 7, 1, 7, 3, 10, 12, 1, 3, 11, 1, ...]\n",
              "24    [3, 65, 2, 3, 1, 15, 6, 1, 2, 1, 17, 12, 1, 7, 1, 7, 2, 10, 27, 18, 7, 45, 30, 1, 1, 5, 11, 10, 4, 1, 2, 1, 5, 19, 5, 6, 8, 3, 1, 2, 18, 18, 13, 5, 2, 3, 2, 2, 1, 16, 10, 6, 1, 2, 5, 8, 1, 22, 13, 1, 1, 2, 17, 7, 1, 2, 13, 11, 1, 1, 1, 1, 1, 7, 1, 1, 8, 2, 17, 10, 7, 2, 4, 32, 1, 2, 1, 1, 2, 1, 7, 1, 7, 3, 10, 12, 1, 3, 11, 1, ...]\n",
              "25    [3, 65, 2, 3, 1, 15, 6, 1, 2, 1, 17, 12, 1, 7, 1, 7, 2, 10, 27, 18, 7, 45, 30, 1, 1, 5, 11, 10, 4, 1, 2, 1, 5, 19, 5, 6, 8, 3, 1, 2, 18, 18, 13, 5, 2, 3, 2, 2, 1, 16, 10, 6, 1, 2, 5, 8, 1, 22, 13, 1, 1, 2, 17, 7, 1, 2, 13, 11, 1, 1, 1, 1, 1, 7, 1, 1, 8, 2, 17, 10, 7, 2, 4, 32, 1, 2, 1, 1, 2, 1, 7, 1, 7, 3, 10, 12, 1, 3, 11, 1, ...]\n",
              "26    [3, 65, 2, 3, 1, 15, 6, 1, 2, 1, 17, 12, 1, 7, 1, 7, 2, 10, 27, 18, 7, 45, 30, 1, 1, 5, 11, 10, 4, 1, 2, 1, 5, 19, 5, 6, 8, 3, 1, 2, 18, 18, 13, 5, 2, 3, 2, 2, 1, 16, 10, 6, 1, 2, 5, 8, 1, 22, 13, 1, 1, 2, 17, 7, 1, 2, 13, 11, 1, 1, 1, 1, 1, 7, 1, 1, 8, 2, 17, 10, 7, 2, 4, 32, 1, 2, 1, 1, 2, 1, 7, 1, 7, 3, 10, 12, 1, 3, 11, 1, ...]\n",
              "27    [3, 65, 2, 3, 1, 15, 6, 1, 2, 1, 17, 12, 1, 7, 1, 7, 2, 10, 27, 18, 7, 45, 30, 1, 1, 5, 11, 10, 4, 1, 2, 1, 5, 19, 5, 6, 8, 3, 1, 2, 18, 18, 13, 5, 2, 3, 2, 2, 1, 16, 10, 6, 1, 2, 5, 8, 1, 22, 13, 1, 1, 2, 17, 7, 1, 2, 13, 11, 1, 1, 1, 1, 1, 7, 1, 1, 8, 2, 17, 10, 7, 2, 4, 32, 1, 2, 1, 1, 2, 1, 7, 1, 7, 3, 10, 12, 1, 3, 11, 1, ...]\n",
              "28    [3, 65, 2, 3, 1, 15, 6, 1, 2, 1, 17, 12, 1, 7, 1, 7, 2, 10, 27, 18, 7, 45, 30, 1, 1, 5, 11, 10, 4, 1, 2, 1, 5, 19, 5, 6, 8, 3, 1, 2, 18, 18, 13, 5, 2, 3, 2, 2, 1, 16, 10, 6, 1, 2, 5, 8, 1, 22, 13, 1, 1, 2, 17, 7, 1, 2, 13, 11, 1, 1, 1, 1, 1, 7, 1, 1, 8, 2, 17, 10, 7, 2, 4, 32, 1, 2, 1, 1, 2, 1, 7, 1, 7, 3, 10, 12, 1, 3, 11, 1, ...]\n",
              "29    [3, 65, 2, 3, 1, 15, 6, 1, 2, 1, 17, 12, 1, 7, 1, 7, 2, 10, 27, 18, 7, 45, 30, 1, 1, 5, 11, 10, 4, 1, 2, 1, 5, 19, 5, 6, 8, 3, 1, 2, 18, 18, 13, 5, 2, 3, 2, 2, 1, 16, 10, 6, 1, 2, 5, 8, 1, 22, 13, 1, 1, 2, 17, 7, 1, 2, 13, 11, 1, 1, 1, 1, 1, 7, 1, 1, 8, 2, 17, 10, 7, 2, 4, 32, 1, 2, 1, 1, 2, 1, 7, 1, 7, 3, 10, 12, 1, 3, 11, 1, ...]\n",
              "30    [3, 65, 2, 3, 1, 15, 6, 1, 2, 1, 17, 12, 1, 7, 1, 7, 2, 10, 27, 18, 7, 45, 30, 1, 1, 5, 11, 10, 4, 1, 2, 1, 5, 19, 5, 6, 8, 3, 1, 2, 18, 18, 13, 5, 2, 3, 2, 2, 1, 16, 10, 6, 1, 2, 5, 8, 1, 22, 13, 1, 1, 2, 17, 7, 1, 2, 13, 11, 1, 1, 1, 1, 1, 7, 1, 1, 8, 2, 17, 10, 7, 2, 4, 32, 1, 2, 1, 1, 2, 1, 7, 1, 7, 3, 10, 12, 1, 3, 11, 1, ...]\n",
              "31    [3, 65, 2, 3, 1, 15, 6, 1, 2, 1, 17, 12, 1, 7, 1, 7, 2, 10, 27, 18, 7, 45, 30, 1, 1, 5, 11, 10, 4, 1, 2, 1, 5, 19, 5, 6, 8, 3, 1, 2, 18, 18, 13, 5, 2, 3, 2, 2, 1, 16, 10, 6, 1, 2, 5, 8, 1, 22, 13, 1, 1, 2, 17, 7, 1, 2, 13, 11, 1, 1, 1, 1, 1, 7, 1, 1, 8, 2, 17, 10, 7, 2, 4, 32, 1, 2, 1, 1, 2, 1, 7, 1, 7, 3, 10, 12, 1, 3, 11, 1, ...]\n",
              "32    [3, 65, 2, 3, 1, 15, 6, 1, 2, 1, 17, 12, 1, 7, 1, 7, 2, 10, 27, 18, 7, 45, 30, 1, 1, 5, 11, 10, 4, 1, 2, 1, 5, 19, 5, 6, 8, 3, 1, 2, 18, 18, 13, 5, 2, 3, 2, 2, 1, 16, 10, 6, 1, 2, 5, 8, 1, 22, 13, 1, 1, 2, 17, 7, 1, 2, 13, 11, 1, 1, 1, 1, 1, 7, 1, 1, 8, 2, 17, 10, 7, 2, 4, 32, 1, 2, 1, 1, 2, 1, 7, 1, 7, 3, 10, 12, 1, 3, 11, 1, ...]\n",
              "33    [3, 65, 2, 3, 1, 15, 6, 1, 2, 1, 17, 12, 1, 7, 1, 7, 2, 10, 27, 18, 7, 45, 30, 1, 1, 5, 11, 10, 4, 1, 2, 1, 5, 19, 5, 6, 8, 3, 1, 2, 18, 18, 13, 5, 2, 3, 2, 2, 1, 16, 10, 6, 1, 2, 5, 8, 1, 22, 13, 1, 1, 2, 17, 7, 1, 2, 13, 11, 1, 1, 1, 1, 1, 7, 1, 1, 8, 2, 17, 10, 7, 2, 4, 32, 1, 2, 1, 1, 2, 1, 7, 1, 7, 3, 10, 12, 1, 3, 11, 1, ...]\n",
              "Name: description12, dtype: object"
            ]
          },
          "metadata": {},
          "execution_count": 6
        }
      ]
    },
    {
      "cell_type": "code",
      "source": [
        "from math import log2\n",
        "from functools import reduce\n",
        "nrow7=len(GOFdataset)\n",
        "N=len(GOFdataset)\n",
        "entropyVec=[]\n",
        "for row7 in range(0, nrow7):\n",
        "    ik={}\n",
        "    docs5=GOFdataset.loc[row7]['description5']\n",
        "    for words in finalVocab:\n",
        "        ik[words]=0\n",
        "    for words in docs5:\n",
        "        ik[words]+=1\n",
        "        #print(ik)\n",
        "    for words in ik:\n",
        "        a=ik[words]*log2(N/IDF[words])\n",
        "        b=(math.sqrt(math.pow(math.floor(IJ[words]*log2(N/IDF[words])),2)))\n",
        "        ik[words]=a/b if b != 0 else 0\n",
        "        #print(ik)\n",
        "    entropyVec.append(ik)\n",
        "    #print(entropyVec)\n",
        "GOFdataset['description13']=entropyVec\n",
        "#print(GOFdataset['description13'])   \n",
        "    \n",
        "nrow8=len(GOFdataset)\n",
        "entropyVector=[]\n",
        "for row8 in range(0, nrow8):\n",
        "    tee4=GOFdataset.loc[row8]['description13']\n",
        "    entropyVec=[0]*len(tee4)\n",
        "    for i, words in enumerate(tee4):\n",
        "        entropyVec[i]=tee4[words]\n",
        "    #print(entropyVec)\n",
        "    entropyVector.append(entropyVec)\n",
        "    #print(entropyVector)\n",
        "pd.set_option('display.max_colwidth',None)\n",
        "GOFdataset['description14']=entropyVector\n",
        "GOFdataset['description14']"
      ],
      "metadata": {
        "id": "uQxvcveRylvv",
        "colab": {
          "base_uri": "https://localhost:8080/"
        },
        "outputId": "704e6bc2-f2c0-4530-990d-66846fe9ea6a"
      },
      "execution_count": 7,
      "outputs": [
        {
          "output_type": "execute_result",
          "data": {
            "text/plain": [
              "0                                             [1.0174925682500677, 0.033316632715866025, 0.5109328551562924, 0.34062190343752824, 1.0174925682500677, 0.06848349427885811, 0.17152571340279665, 1.0174925682500677, 0.5109328551562924, 1.0174925682500677, 0.18000851993626857, 0.16688988331082916, 1.0174925682500677, 0.43781254256614793, 1.0174925682500677, 0.14555446033489353, 0.5109328551562924, 0.10242721282825841, 0.03823074332533446, 0.11558526025910394, 0.14555446033489353, 0.02269014399477713, 0.033983213789073104, 1.0174925682500677, 1.0174925682500677, 0.2127334420279213, 0.09576654250664954, 0.10010001362116734, 0.2554664275781462, 1.0174925682500677, 0.5109328551562924, 1.0174925682500677, 0.2127334420279213, 0.05426770742043474, 0.20602943179583433, 0.1667857305013897, 0.12512501702645917, 0.3502500340529183, 1.0174925682500677, 0.5109328551562924, 0.05561238827299354, 0.0, 0.0, 0.0, 0.0, 0.0, 0.0, 0.0, 0.0, 0.0, 0.0, 0.0, 0.0, 0.0, 0.0, 0.0, 0.0, 0.0, 0.0, 0.0, 0.0, 0.0, 0.0, 0.0, 0.0, 0.0, 0.0, 0.0, 0.0, 0.0, 0.0, 0.0, 0.0, 0.0, 0.0, 0.0, 0.0, 0.0, 0.0, 0.0, 0.0, 0.0, 0.0, 0.0, 0.0, 0.0, 0.0, 0.0, 0.0, 0.0, 0.0, 0.0, 0.0, 0.0, 0.0, 0.0, 0.0, 0.0, 0.0, 0.0, ...]\n",
              "1                                                                                                                                                                                                                                                                                                                                                      [0.0, 0.016658316357933012, 0.0, 0.0, 0.0, 0.0, 0.0, 0.0, 0.0, 0.0, 0.0, 0.0, 0.0, 0.0, 0.0, 0.0, 0.0, 0.0, 0.03823074332533446, 0.0, 0.0, 0.0, 0.0, 0.0, 0.0, 0.0, 0.0, 0.0, 0.0, 0.0, 0.0, 0.0, 0.0, 0.0, 0.0, 0.0, 0.0, 0.0, 0.0, 0.0, 0.0, 0.16931845385895777, 0.1572488220132921, 0.2127334420279213, 0.5109328551562924, 0.3502500340529183, 0.5109328551562924, 0.5109328551562924, 1.0174925682500677, 0.06304650559587488, 0.10385498508017511, 0.17284592164768606, 1.0174925682500677, 0.5109328551562924, 0.2127334420279213, 0.12570612483468077, 1.0174925682500677, 0.04623410410364158, 0.07989740999200112, 1.0174925682500677, 1.0174925682500677, 0.0, 0.0, 0.0, 0.0, 0.0, 0.0, 0.0, 0.0, 0.0, 0.0, 0.0, 0.0, 0.0, 0.0, 0.0, 0.0, 0.0, 0.0, 0.0, 0.0, 0.0, 0.0, 0.0, 0.0, 0.0, 0.0, 0.0, 0.0, 0.0, 0.0, 0.0, 0.0, 0.0, 0.0, 0.0, 0.0, 0.0, 0.0, 0.0, ...]\n",
              "2     [0.0, 0.016658316357933012, 0.0, 0.0, 0.0, 0.0, 0.0, 0.0, 0.0, 0.0, 0.0, 0.0, 0.0, 0.0, 0.0, 0.0, 0.0, 0.0, 0.07646148665066892, 0.05779263012955197, 0.0, 0.11345071997388566, 0.06796642757814621, 0.0, 0.0, 0.0, 0.0, 0.0, 0.0, 0.0, 0.0, 0.0, 0.0, 0.0, 0.0, 0.0, 0.0, 0.0, 0.0, 0.0, 0.0, 0.0, 0.0, 0.0, 0.0, 0.0, 0.0, 0.0, 0.0, 0.0, 0.0, 0.0, 0.0, 0.0, 0.0, 0.0, 0.0, 0.0, 0.0, 0.0, 0.0, 1.0174925682500677, 0.35785077278577254, 0.5880881602381599, 1.0174925682500677, 1.0174925682500677, 0.07752529631490677, 0.09488467460228817, 1.0174925682500677, 1.0174925682500677, 1.0174925682500677, 1.0174925682500677, 1.0174925682500677, 0.1472059023840696, 1.0174925682500677, 1.0174925682500677, 0.12512501702645917, 0.5109328551562924, 0.12059490537874387, 0.10010001362116734, 0.14555446033489353, 0.5109328551562924, 0.257288570104195, 0.09458221855515947, 1.0174925682500677, 0.5109328551562924, 1.0174925682500677, 1.0174925682500677, 0.5109328551562924, 1.0174925682500677, 0.1472059023840696, 1.0174925682500677, 0.1472059023840696, 0.3502500340529183, 0.10364126905421524, 0.08337121042643596, 1.0174925682500677, 0.34062190343752824, 0.18240863353541883, 1.0174925682500677, ...]\n",
              "3                                                                                                                                                                                                                                                                                                                                                                                                                                              [0.0, 0.04997494907379904, 0.0, 0.0, 0.0, 0.0, 0.0, 0.0, 0.0, 0.0, 0.18000851993626857, 0.16688988331082916, 0.0, 0.29187502837743196, 0.0, 0.0, 0.0, 0.0, 0.0, 0.0, 0.0, 0.0, 0.033983213789073104, 0.0, 0.0, 0.2127334420279213, 0.0, 0.0, 0.0, 0.0, 0.0, 0.0, 0.0, 0.1628031222613042, 0.0, 0.0, 0.0, 0.0, 0.0, 0.0, 0.3336743296379613, 0.16931845385895777, 0.0, 0.0, 0.0, 0.0, 0.0, 0.0, 0.0, 0.06304650559587488, 0.0, 0.0, 0.0, 0.0, 0.0, 0.0, 0.0, 0.04623410410364158, 0.07989740999200112, 0.0, 0.0, 0.0, 0.0, 0.0, 0.0, 0.0, 0.15505059262981355, 0.0, 0.0, 0.0, 0.0, 0.0, 0.0, 0.0, 0.0, 0.0, 0.0, 0.0, 0.0, 0.0, 0.29110892066978705, 0.0, 0.0, 0.0, 0.0, 0.0, 0.0, 0.0, 0.0, 0.0, 0.1472059023840696, 0.0, 0.0, 0.0, 0.0, 0.0, 0.0, 0.6812438068750565, 0.0, 0.0, ...]\n",
              "4                                                                                                                                                                                                                                                                                                                                                                                                                             [0.0, 0.04997494907379904, 0.0, 0.0, 0.0, 0.0, 0.0, 0.0, 0.0, 0.0, 0.0, 0.0, 0.0, 0.0, 0.0, 0.0, 0.0, 0.0, 0.07646148665066892, 0.05779263012955197, 0.14555446033489353, 0.0, 0.0, 0.0, 0.0, 0.0, 0.0, 0.30030004086350204, 0.0, 0.0, 0.0, 0.0, 0.0, 0.0, 0.0, 0.0, 0.0, 0.0, 0.0, 0.0, 0.0, 0.0, 0.0, 0.0, 0.5109328551562924, 0.0, 0.0, 0.0, 0.0, 0.0, 0.0, 0.17284592164768606, 0.0, 0.0, 0.0, 0.0, 0.0, 0.04623410410364158, 0.0, 0.0, 0.0, 0.0, 0.0, 0.14702204005953998, 0.0, 0.0, 0.07752529631490677, 0.09488467460228817, 0.0, 0.0, 0.0, 0.0, 0.0, 0.0, 0.0, 0.0, 0.0, 0.0, 0.12059490537874387, 0.0, 0.0, 0.0, 0.0, 0.18916443711031894, 0.0, 0.5109328551562924, 0.0, 0.0, 0.0, 0.0, 0.0, 0.0, 0.1472059023840696, 0.0, 0.0, 0.33348484170574383, 0.0, 0.0, 0.09120431676770942, 0.0, ...]\n",
              "5                                                                                                                                                                                                                                                                                                                                                                                                                                                                                           [0.0, 0.033316632715866025, 0.0, 0.0, 0.0, 0.06848349427885811, 0.0, 0.0, 0.0, 0.0, 0.0, 0.0, 0.0, 0.0, 0.0, 0.0, 0.0, 0.0, 0.03823074332533446, 0.0, 0.0, 0.11345071997388566, 0.0, 0.0, 0.0, 0.0, 0.09576654250664954, 0.10010001362116734, 0.0, 0.0, 0.0, 0.0, 0.2127334420279213, 0.0, 0.0, 0.0, 0.12512501702645917, 0.0, 0.0, 0.0, 0.0, 0.0, 0.0, 0.0, 0.0, 0.0, 0.0, 0.0, 0.0, 0.12609301119174976, 0.0, 0.0, 0.0, 0.0, 0.0, 0.0, 0.0, 0.09246820820728316, 0.0, 0.0, 0.0, 0.0, 0.0, 0.0, 0.0, 0.0, 0.0, 0.0, 0.0, 0.0, 0.0, 0.0, 0.0, 0.0, 0.0, 0.0, 0.0, 0.0, 0.12059490537874387, 0.0, 0.0, 0.0, 0.0, 0.0, 0.0, 0.0, 0.0, 0.0, 0.0, 0.0, 0.0, 0.0, 0.0, 0.0, 0.3109238071626457, 0.0, 0.0, 0.0, 0.09120431676770942, 0.0, ...]\n",
              "6                                                                                                                                                                                                                                                                                                                                                                                                                                                                                            [0.0, 0.033316632715866025, 0.0, 0.0, 0.0, 0.06848349427885811, 0.0, 0.0, 0.0, 0.0, 0.0, 0.0, 0.0, 0.0, 0.0, 0.0, 0.0, 0.0, 0.03823074332533446, 0.0, 0.0, 0.02269014399477713, 0.033983213789073104, 0.0, 0.0, 0.0, 0.0, 0.10010001362116734, 0.0, 0.0, 0.0, 0.0, 0.2127334420279213, 0.0, 0.0, 0.0, 0.0, 0.0, 0.0, 0.0, 0.0, 0.0, 0.0, 0.0, 0.0, 0.0, 0.0, 0.0, 0.0, 0.0, 0.10385498508017511, 0.0, 0.0, 0.0, 0.2127334420279213, 0.0, 0.0, 0.0, 0.0, 0.0, 0.0, 0.0, 0.0, 0.0, 0.0, 0.0, 0.0, 0.0, 0.0, 0.0, 0.0, 0.0, 0.0, 0.1472059023840696, 0.0, 0.0, 0.12512501702645917, 0.0, 0.0, 0.0, 0.0, 0.5109328551562924, 0.0, 0.0, 0.0, 0.0, 0.0, 0.0, 0.0, 0.0, 0.0, 0.0, 0.0, 0.0, 0.0, 0.0, 0.0, 0.0, 0.18240863353541883, 0.0, ...]\n",
              "7                                                                                                                                                                                                                                                                                                                                                                                                                                                                                                                                                                                                                         [0.0, 0.016658316357933012, 0.0, 0.0, 0.0, 0.0, 0.0, 0.0, 0.0, 0.0, 0.0, 0.0, 0.0, 0.0, 0.0, 0.0, 0.0, 0.0, 0.0, 0.0, 0.0, 0.0, 0.0, 0.0, 0.0, 0.0, 0.0, 0.0, 0.0, 0.0, 0.0, 0.0, 0.0, 0.0, 0.0, 0.0, 0.12512501702645917, 0.0, 0.0, 0.0, 0.0, 0.0, 0.0, 0.0, 0.0, 0.0, 0.0, 0.0, 0.0, 0.0, 0.0, 0.0, 0.0, 0.0, 0.0, 0.0, 0.0, 0.0, 0.07989740999200112, 0.0, 0.0, 0.0, 0.0, 0.0, 0.0, 0.0, 0.0, 0.0, 0.0, 0.0, 0.0, 0.0, 0.0, 0.0, 0.0, 0.0, 0.0, 0.5109328551562924, 0.060297452689371936, 0.0, 0.0, 0.0, 0.0, 0.0, 0.0, 0.0, 0.0, 0.0, 0.0, 0.0, 0.0, 0.0, 0.0, 0.0, 0.0, 0.0, 0.0, 0.0, 0.0, 0.0, ...]\n",
              "8                                                                                                                                                                                                                                                                                                                                                                                                                                                                            [0.0, 0.04997494907379904, 0.0, 0.0, 0.0, 0.13696698855771622, 0.0, 0.0, 0.0, 0.0, 0.0, 0.0, 0.0, 0.0, 0.0, 0.0, 0.0, 0.0, 0.07646148665066892, 0.0, 0.0, 0.0, 0.033983213789073104, 0.0, 0.0, 0.0, 0.0, 0.0, 0.0, 0.0, 0.0, 0.0, 0.2127334420279213, 0.0, 0.20602943179583433, 0.0, 0.0, 0.0, 0.0, 0.0, 0.05561238827299354, 0.0, 0.0, 0.0, 0.0, 0.0, 0.0, 0.0, 0.0, 0.06304650559587488, 0.0, 0.0, 0.0, 0.0, 0.0, 0.12570612483468077, 0.0, 0.0, 0.0, 0.0, 0.0, 0.0, 0.05964179546429541, 0.0, 0.0, 0.0, 0.0, 0.0, 0.0, 0.0, 0.0, 0.0, 0.0, 0.0, 0.0, 0.0, 0.0, 0.0, 0.060297452689371936, 0.20020002724233468, 0.0, 0.0, 0.257288570104195, 0.0, 0.0, 0.0, 0.0, 0.0, 0.0, 0.0, 0.0, 0.0, 0.1472059023840696, 0.0, 0.0, 0.0, 0.0, 0.0, 0.0, 0.0, ...]\n",
              "9                                                                                                                                                                                                                                                                                                                                                                                                                                                                                                                           [0.0, 0.06663326543173205, 0.0, 0.0, 0.0, 0.0, 0.0, 0.0, 0.0, 0.0, 0.0, 0.0, 0.0, 0.0, 0.0, 0.0, 0.0, 0.3072816384847752, 0.0, 0.11558526025910394, 0.0, 0.04538028798955426, 0.033983213789073104, 0.0, 0.0, 0.2127334420279213, 0.0, 0.0, 0.0, 0.0, 0.0, 0.0, 0.0, 0.21707082968173896, 0.0, 0.0, 0.0, 0.0, 0.0, 0.0, 0.0, 0.0, 0.0, 0.0, 0.0, 0.0, 0.0, 0.0, 0.0, 0.0, 0.0, 0.0, 0.0, 0.0, 0.0, 0.0, 0.0, 0.04623410410364158, 0.0, 0.0, 0.0, 0.0, 0.0, 0.0, 0.0, 0.0, 0.07752529631490677, 0.0, 0.0, 0.0, 0.0, 0.0, 0.0, 0.0, 0.0, 0.0, 0.0, 0.0, 0.0, 0.0, 0.0, 0.0, 0.0, 0.0, 0.0, 0.0, 0.0, 0.0, 0.0, 0.0, 0.0, 0.0, 0.0, 0.0, 0.0, 0.08337121042643596, 0.0, 0.0, 0.27361295030312827, 0.0, ...]\n",
              "10                                                                                                                                                                                                                                                                                                                                                                                                                                                                                                                                                                                        [0.0, 0.033316632715866025, 0.0, 0.0, 0.0, 0.0, 0.0, 0.0, 0.0, 0.0, 0.0, 0.0, 0.0, 0.0, 0.0, 0.0, 0.0, 0.0, 0.0, 0.0, 0.0, 0.0, 0.0, 0.0, 0.0, 0.0, 0.0, 0.0, 0.0, 0.0, 0.0, 0.0, 0.0, 0.0, 0.0, 0.0, 0.0, 0.0, 0.0, 0.0, 0.0, 0.0, 0.07862441100664605, 0.0, 0.0, 0.0, 0.0, 0.0, 0.0, 0.06304650559587488, 0.10385498508017511, 0.0, 0.0, 0.0, 0.0, 0.0, 0.0, 0.0, 0.15979481998400225, 0.0, 0.0, 0.0, 0.05964179546429541, 0.0, 0.0, 0.0, 0.0, 0.0, 0.0, 0.0, 0.0, 0.0, 0.0, 0.0, 0.0, 0.0, 0.0, 0.0, 0.0, 0.0, 0.0, 0.0, 0.0, 0.06305481237010632, 0.0, 0.0, 0.0, 0.0, 0.0, 0.0, 0.0, 0.0, 0.0, 0.0, 0.0, 0.0, 0.0, 0.0, 0.0, 0.0, ...]\n",
              "11                                                                                                                                                                                                                                                                                                                                                                                                                                                                                                                                         [0.0, 0.016658316357933012, 0.0, 0.0, 0.0, 0.0, 0.0, 0.0, 0.0, 0.0, 0.0, 0.0, 0.0, 0.0, 0.0, 0.0, 0.0, 0.0, 0.03823074332533446, 0.0, 0.0, 0.02269014399477713, 0.0, 0.0, 0.0, 0.2127334420279213, 0.0, 0.0, 0.0, 0.0, 0.0, 0.0, 0.0, 0.05426770742043474, 0.0, 0.0, 0.0, 0.0, 0.0, 0.0, 0.0, 0.0, 0.0, 0.0, 0.0, 0.0, 0.0, 0.0, 0.0, 0.06304650559587488, 0.0, 0.0, 0.0, 0.0, 0.0, 0.0, 0.0, 0.0, 0.0, 0.0, 0.0, 0.0, 0.0, 0.0, 0.0, 0.0, 0.0, 0.09488467460228817, 0.0, 0.0, 0.0, 0.0, 0.0, 0.0, 0.0, 0.0, 0.0, 0.0, 0.060297452689371936, 0.10010001362116734, 0.0, 0.0, 0.0, 0.0, 0.0, 0.0, 0.0, 0.0, 0.0, 0.0, 0.1472059023840696, 0.0, 0.0, 0.0, 0.0, 0.0, 0.0, 0.0, 0.0, 0.0, ...]\n",
              "12                                                                                                                                                                                                                                                                                                                                                                                                                                                                                                                                          [0.0, 0.0, 0.0, 0.0, 0.0, 0.0, 0.0, 0.0, 0.0, 0.0, 0.0, 0.0, 0.0, 0.0, 0.0, 0.0, 0.0, 0.0, 0.03823074332533446, 0.0, 0.0, 0.02269014399477713, 0.06796642757814621, 0.0, 0.0, 0.0, 0.0, 0.0, 0.0, 0.0, 0.0, 0.0, 0.0, 0.0, 0.0, 0.0, 0.0, 0.0, 0.0, 0.0, 0.0, 0.0, 0.0, 0.0, 0.0, 0.0, 0.0, 0.0, 0.0, 0.0, 0.0, 0.0, 0.0, 0.0, 0.0, 0.0, 0.0, 0.0, 0.0, 0.0, 0.0, 0.0, 0.0, 0.0, 0.0, 0.0, 0.07752529631490677, 0.0, 0.0, 0.0, 0.0, 0.0, 0.0, 0.1472059023840696, 0.0, 0.0, 0.0, 0.0, 0.060297452689371936, 0.0, 0.29110892066978705, 0.0, 0.0, 0.03152740618505316, 0.0, 0.0, 0.0, 0.0, 0.0, 0.0, 0.0, 0.0, 0.2944118047681392, 0.0, 0.10364126905421524, 0.0, 0.0, 0.0, 0.0, 0.0, ...]\n",
              "13                                                                                                                                                                                                                                                                                                                                                                                                                                                                         [0.0, 0.016658316357933012, 0.0, 0.0, 0.0, 0.0, 0.17152571340279665, 0.0, 0.0, 0.0, 0.0, 0.0, 0.0, 0.0, 0.0, 0.0, 0.0, 0.0, 0.0, 0.0, 0.14555446033489353, 0.02269014399477713, 0.033983213789073104, 0.0, 0.0, 0.0, 0.0, 0.0, 0.0, 0.0, 0.0, 0.0, 0.0, 0.0, 0.0, 0.0, 0.0, 0.0, 0.0, 0.0, 0.11122477654598709, 0.28219742309826296, 0.07862441100664605, 0.0, 0.0, 0.0, 0.0, 0.5109328551562924, 0.0, 0.06304650559587488, 0.0, 0.0, 0.0, 0.0, 0.2127334420279213, 0.0, 0.0, 0.04623410410364158, 0.0, 0.0, 0.0, 0.0, 0.0, 0.0, 0.0, 0.0, 0.0, 0.18976934920457633, 0.0, 0.0, 0.0, 0.0, 0.0, 0.0, 0.0, 0.0, 0.0, 0.0, 0.0, 0.0, 0.0, 0.0, 0.0, 0.03152740618505316, 0.0, 0.0, 0.0, 0.0, 0.0, 0.0, 0.0, 0.0, 0.0, 0.0, 0.0, 0.0, 0.0, 0.0, 0.0, 0.0, ...]\n",
              "14                                                                                                                                                                                                                                                                                                                                                                                                                                                                                                                                                                                                                        [0.0, 0.016658316357933012, 0.0, 0.0, 0.0, 0.0, 0.0, 0.0, 0.0, 0.0, 0.0, 0.0, 0.0, 0.0, 0.0, 0.0, 0.0, 0.0, 0.0, 0.0, 0.0, 0.04538028798955426, 0.0, 0.0, 0.0, 0.0, 0.09576654250664954, 0.0, 0.0, 0.0, 0.0, 0.0, 0.0, 0.0, 0.0, 0.0, 0.0, 0.0, 0.0, 0.0, 0.0, 0.0, 0.0, 0.0, 0.0, 0.0, 0.0, 0.0, 0.0, 0.06304650559587488, 0.10385498508017511, 0.0, 0.0, 0.0, 0.0, 0.0, 0.0, 0.0, 0.0, 0.0, 0.0, 0.0, 0.0, 0.0, 0.0, 0.0, 0.0, 0.0, 0.0, 0.0, 0.0, 0.0, 0.0, 0.0, 0.0, 0.0, 0.0, 0.0, 0.0, 0.0, 0.0, 0.0, 0.0, 0.0, 0.0, 0.0, 0.0, 0.0, 0.0, 0.0, 0.0, 0.0, 0.0, 0.0, 0.0, 0.0, 0.0, 0.0, 0.0, 0.0, ...]\n",
              "15                                                                                                                                                                                                                                                                                                                                                                                                                                                                                                                                                          [0.0, 0.016658316357933012, 0.0, 0.0, 0.0, 0.0, 0.0, 0.0, 0.0, 0.0, 0.12000567995751239, 0.0, 0.0, 0.0, 0.0, 0.0, 0.0, 0.0, 0.07646148665066892, 0.0, 0.0, 0.0, 0.0, 0.0, 0.0, 0.0, 0.09576654250664954, 0.0, 0.0, 0.0, 0.0, 0.0, 0.0, 0.0, 0.0, 0.0, 0.0, 0.0, 0.0, 0.5109328551562924, 0.0, 0.0, 0.0, 0.0, 0.0, 0.0, 0.0, 0.0, 0.0, 0.0, 0.10385498508017511, 0.0, 0.0, 0.0, 0.0, 0.0, 0.0, 0.0, 0.0, 0.0, 0.0, 0.0, 0.0, 0.0, 0.0, 0.0, 0.0, 0.0, 0.0, 0.0, 0.0, 0.0, 0.0, 0.0, 0.0, 0.0, 0.12512501702645917, 0.0, 0.0, 0.0, 0.0, 0.0, 0.0, 0.0, 0.0, 0.0, 0.0, 0.0, 0.0, 0.0, 0.0, 0.0, 0.0, 0.3502500340529183, 0.0, 0.08337121042643596, 0.0, 0.0, 0.0, 0.0, ...]\n",
              "16                                                                                                                                                                                                                                                                                                                                                                                                                                                                                                                                           [0.0, 0.033316632715866025, 0.0, 0.0, 0.0, 0.0, 0.0, 0.0, 0.0, 0.0, 0.12000567995751239, 0.0, 0.0, 0.0, 0.0, 0.0, 0.0, 0.0, 0.03823074332533446, 0.0, 0.0, 0.0, 0.0, 0.0, 0.0, 0.0, 0.09576654250664954, 0.0, 0.0, 0.0, 0.0, 0.0, 0.0, 0.0, 0.0, 0.0, 0.0, 0.0, 0.0, 0.0, 0.0, 0.0, 0.3144976440265842, 0.2127334420279213, 0.0, 0.0, 0.0, 0.0, 0.0, 0.0, 0.0, 0.0, 0.0, 0.0, 0.0, 0.25141224966936154, 0.0, 0.0, 0.0, 0.0, 0.0, 0.0, 0.0, 0.0, 0.0, 0.0, 0.0, 0.0, 0.0, 0.0, 0.0, 0.0, 0.0, 0.0, 0.0, 0.0, 0.12512501702645917, 0.0, 0.0, 0.0, 0.0, 0.0, 0.0, 0.0, 0.0, 0.0, 0.0, 0.0, 0.0, 0.0, 0.0, 0.0, 0.1472059023840696, 0.0, 0.20728253810843048, 0.0, 0.0, 0.0, 0.0, 0.0, ...]\n",
              "17                                                                                                                                                                                                                                                                                                                                                                                                                                                                                         [0.0, 0.033316632715866025, 0.0, 0.0, 0.0, 0.20545048283657433, 0.0, 0.0, 0.0, 0.0, 0.12000567995751239, 0.0, 0.0, 0.0, 0.0, 0.14555446033489353, 0.0, 0.0, 0.03823074332533446, 0.0, 0.14555446033489353, 0.0, 0.0, 0.0, 0.0, 0.0, 0.09576654250664954, 0.0, 0.0, 0.0, 0.0, 0.0, 0.0, 0.05426770742043474, 0.0, 0.0, 0.12512501702645917, 0.0, 0.0, 0.0, 0.0, 0.0, 0.0, 0.0, 0.0, 0.0, 0.0, 0.0, 0.0, 0.0, 0.0, 0.0, 0.0, 0.0, 0.0, 0.0, 0.0, 0.04623410410364158, 0.0, 0.0, 0.0, 0.0, 0.05964179546429541, 0.0, 0.0, 0.0, 0.0, 0.0, 0.0, 0.0, 0.0, 0.0, 0.0, 0.1472059023840696, 0.0, 0.0, 0.0, 0.0, 0.0, 0.0, 0.0, 0.0, 0.0, 0.0, 0.0, 0.0, 0.0, 0.0, 0.0, 0.0, 0.0, 0.0, 0.0, 0.0, 0.0, 0.08337121042643596, 0.0, 0.0, 0.0, 0.0, ...]\n",
              "18                                                                                                                                                                                                                                                                                                                                                                                                                                                                                                                           [0.0, 0.04997494907379904, 0.0, 0.0, 0.0, 0.0, 0.0, 0.0, 0.0, 0.0, 0.0, 0.0, 0.0, 0.0, 0.0, 0.0, 0.0, 0.0, 0.03823074332533446, 0.0, 0.0, 0.02269014399477713, 0.06796642757814621, 0.0, 0.0, 0.0, 0.0, 0.0, 0.0, 0.0, 0.0, 0.0, 0.0, 0.0, 0.0, 0.0, 0.0, 0.0, 0.0, 0.0, 0.0, 0.0, 0.1572488220132921, 0.2127334420279213, 0.0, 0.0, 0.0, 0.0, 0.0, 0.0, 0.0, 0.0, 0.0, 0.0, 0.0, 0.25141224966936154, 0.0, 0.0, 0.07989740999200112, 0.0, 0.0, 0.0, 0.0, 0.0, 0.0, 0.0, 0.0, 0.0, 0.0, 0.0, 0.0, 0.0, 0.0, 0.0, 0.0, 0.0, 0.0, 0.0, 0.0, 0.0, 0.0, 0.0, 0.0, 0.03152740618505316, 0.0, 0.0, 0.0, 0.0, 0.0, 0.0, 0.0, 0.0, 0.0, 0.0, 0.10364126905421524, 0.0, 0.0, 0.0, 0.09120431676770942, 0.0, ...]\n",
              "19                                                                                                                                                                                                                                                                                                                                                                                                                                                                                                                        [0.0, 0.016658316357933012, 0.0, 0.0, 0.0, 0.0, 0.0, 0.0, 0.0, 0.0, 0.0, 0.0, 0.0, 0.0, 0.0, 0.14555446033489353, 0.0, 0.0, 0.0, 0.0, 0.0, 0.04538028798955426, 0.0, 0.0, 0.0, 0.0, 0.0, 0.0, 0.0, 0.0, 0.0, 0.0, 0.0, 0.0, 0.0, 0.0, 0.0, 0.0, 0.0, 0.0, 0.0, 0.0, 0.1572488220132921, 0.0, 0.0, 0.0, 0.0, 0.0, 0.0, 0.12609301119174976, 0.10385498508017511, 0.0, 0.0, 0.0, 0.0, 0.0, 0.0, 0.04623410410364158, 0.15979481998400225, 0.0, 0.0, 0.0, 0.05964179546429541, 0.0, 0.0, 0.0, 0.0, 0.0, 0.0, 0.0, 0.0, 0.0, 0.0, 0.0, 0.0, 0.0, 0.0, 0.0, 0.060297452689371936, 0.0, 0.0, 0.0, 0.0, 0.12610962474021264, 0.0, 0.0, 0.0, 0.0, 0.0, 0.0, 0.0, 0.0, 0.0, 0.0, 0.0, 0.0, 0.0, 0.0, 0.0, 0.0, ...]\n",
              "20                                                                                                                                                                                                                                                                                                                                                                                                                                                                                                                                                                                         [0.0, 0.04997494907379904, 0.0, 0.0, 0.0, 0.0, 0.0, 0.0, 0.0, 0.0, 0.0, 0.0, 0.0, 0.0, 0.0, 0.0, 0.0, 0.0, 0.0, 0.05779263012955197, 0.0, 0.0, 0.033983213789073104, 0.0, 0.0, 0.0, 0.09576654250664954, 0.0, 0.0, 0.0, 0.0, 0.0, 0.0, 0.0, 0.0, 0.0, 0.0, 0.0, 0.0, 0.0, 0.0, 0.0, 0.0, 0.0, 0.0, 0.3502500340529183, 0.0, 0.0, 0.0, 0.0, 0.0, 0.0, 0.0, 0.0, 0.0, 0.0, 0.0, 0.09246820820728316, 0.23969222997600337, 0.0, 0.0, 0.0, 0.0, 0.0, 0.0, 0.0, 0.0, 0.0, 0.0, 0.0, 0.0, 0.0, 0.0, 0.0, 0.0, 0.0, 0.0, 0.0, 0.0, 0.0, 0.0, 0.0, 0.0, 0.0, 0.0, 0.0, 0.0, 0.0, 0.0, 0.0, 0.0, 0.0, 0.0, 0.0, 0.0, 0.0, 0.0, 0.0, 0.0, 0.0, ...]\n",
              "21                                                                                                                                                                                                                                                                                                                                                                                                                                                                                                           [0.0, 0.033316632715866025, 0.0, 0.6812438068750565, 0.0, 0.0, 0.0, 0.0, 0.0, 0.0, 0.24001135991502479, 0.5841145915879021, 0.0, 0.29187502837743196, 0.0, 0.14555446033489353, 0.0, 0.0, 0.0, 0.11558526025910394, 0.0, 0.0, 0.0, 0.0, 0.0, 0.0, 0.09576654250664954, 0.0, 0.0, 0.0, 0.0, 0.0, 0.0, 0.05426770742043474, 0.0, 0.1667857305013897, 0.0, 0.0, 0.0, 0.0, 0.0, 0.0, 0.0, 0.0, 0.0, 0.0, 0.0, 0.0, 0.0, 0.06304650559587488, 0.10385498508017511, 0.0, 0.0, 0.0, 0.0, 0.0, 0.0, 0.0, 0.0, 0.0, 0.0, 0.0, 0.0, 0.0, 0.0, 0.0, 0.0, 0.0, 0.0, 0.0, 0.0, 0.0, 0.0, 0.0, 0.0, 0.0, 0.0, 0.0, 0.0, 0.0, 0.0, 0.0, 0.0, 0.0, 0.0, 0.0, 0.0, 0.0, 0.0, 0.0, 0.0, 0.0, 0.0, 0.0, 0.0, 0.0, 0.0, 0.0, 0.0, 0.0, ...]\n",
              "22                                                                                                                                                                                                                                                                                                                                                                                                                                                                                                                                            [0.0, 0.0, 0.0, 0.0, 0.0, 0.06848349427885811, 0.0, 0.0, 0.0, 0.0, 0.060002839978756196, 0.08344494165541458, 0.0, 0.0, 0.0, 0.0, 0.0, 0.0, 0.0, 0.0, 0.0, 0.0, 0.0, 0.0, 0.0, 0.0, 0.09576654250664954, 0.0, 0.0, 0.0, 0.0, 0.0, 0.0, 0.0, 0.618088295387503, 0.6671429220055588, 0.0, 0.0, 0.0, 0.0, 0.0, 0.0, 0.0, 0.0, 0.0, 0.0, 0.0, 0.0, 0.0, 0.0, 0.0, 0.0, 0.0, 0.0, 0.0, 0.0, 0.0, 0.0, 0.0, 0.0, 0.0, 0.0, 0.0, 0.0, 0.0, 0.0, 0.07752529631490677, 0.09488467460228817, 0.0, 0.0, 0.0, 0.0, 0.0, 0.0, 0.0, 0.0, 0.3753750510793775, 0.0, 0.0, 0.40040005448466937, 0.0, 0.0, 0.0, 0.0, 0.0, 0.0, 0.0, 0.0, 0.0, 0.0, 0.0, 0.0, 0.0, 0.0, 0.0, 0.0, 0.0, 0.0, 0.0, 0.0, ...]\n",
              "23                                                                                                                                                                                                                                                                                                                                                                                                                                                                                                          [0.0, 0.016658316357933012, 0.0, 0.0, 0.0, 0.06848349427885811, 0.0, 0.0, 0.0, 0.0, 0.0, 0.0, 0.0, 0.0, 0.0, 0.0, 0.0, 0.0, 0.0, 0.05779263012955197, 0.0, 0.0, 0.0, 0.0, 0.0, 0.0, 0.0, 0.0, 0.0, 0.0, 0.0, 0.0, 0.0, 0.05426770742043474, 0.0, 0.0, 0.0, 0.0, 0.0, 0.0, 0.05561238827299354, 0.05643948461965259, 0.0, 0.0, 0.0, 0.0, 0.0, 0.0, 0.0, 0.06304650559587488, 0.10385498508017511, 0.0, 0.0, 0.0, 0.0, 0.0, 0.0, 0.09246820820728316, 0.0, 0.0, 0.0, 0.0, 0.0, 0.0, 0.0, 0.0, 0.0, 0.0, 0.0, 0.0, 0.0, 0.0, 0.0, 0.0, 0.0, 0.0, 0.0, 0.0, 0.0, 0.0, 0.0, 0.0, 0.257288570104195, 0.03152740618505316, 0.0, 0.0, 0.0, 0.0, 0.0, 0.0, 0.0, 0.0, 0.0, 0.0, 0.0, 0.08337121042643596, 0.0, 0.0, 0.0, 0.0, ...]\n",
              "24                                                                                                                                                                                                                                                                                                                                                                                                                                                                                                                                                                                          [0.0, 0.016658316357933012, 0.0, 0.0, 0.0, 0.0, 0.0, 0.0, 0.0, 0.0, 0.0, 0.0, 0.0, 0.0, 0.0, 0.0, 0.0, 0.0, 0.07646148665066892, 0.0, 0.0, 0.0680704319843314, 0.0, 0.0, 0.0, 0.0, 0.0, 0.0, 0.0, 0.0, 0.5109328551562924, 0.0, 0.0, 0.0, 0.0, 0.0, 0.0, 0.0, 0.0, 0.0, 0.0, 0.0, 0.0, 0.0, 0.0, 0.0, 0.0, 0.0, 0.0, 0.0, 0.0, 0.0, 0.0, 0.0, 0.0, 0.0, 0.0, 0.04623410410364158, 0.0, 0.0, 0.0, 0.0, 0.0, 0.0, 0.0, 0.0, 0.0, 0.0, 0.0, 0.0, 0.0, 0.0, 0.0, 0.0, 0.0, 0.0, 0.0, 0.0, 0.0, 0.0, 0.14555446033489353, 0.0, 0.0, 0.12610962474021264, 0.0, 0.0, 0.0, 0.0, 0.0, 0.0, 0.0, 0.0, 0.0, 0.0, 0.0, 0.0, 0.0, 0.0, 0.0, 0.0, ...]\n",
              "25                                                                                                                                                                                                                                                                                                                                                                                                                                                                                                                                             [0.0, 0.033316632715866025, 0.0, 0.0, 0.0, 0.0, 0.0, 0.0, 0.0, 0.0, 0.0, 0.0, 0.0, 0.0, 0.0, 0.0, 0.0, 0.0, 0.0, 0.05779263012955197, 0.43666338100468055, 0.04538028798955426, 0.0, 0.0, 0.0, 0.0, 0.0, 0.0, 0.0, 0.0, 0.0, 0.0, 0.0, 0.1628031222613042, 0.0, 0.0, 0.0, 0.0, 0.0, 0.0, 0.0, 0.0, 0.0, 0.2127334420279213, 0.0, 0.0, 0.0, 0.0, 0.0, 0.0, 0.0, 0.0, 0.0, 0.0, 0.0, 0.0, 0.0, 0.04623410410364158, 0.0, 0.0, 0.0, 0.0, 0.29820897732147705, 0.0, 0.0, 0.0, 0.0, 0.0, 0.0, 0.0, 0.0, 0.0, 0.0, 0.0, 0.0, 0.0, 0.0, 0.0, 0.0, 0.0, 0.0, 0.0, 0.257288570104195, 0.0, 0.0, 0.0, 0.0, 0.0, 0.0, 0.0, 0.2944118047681392, 0.0, 0.0, 0.0, 0.0, 0.0, 0.0, 0.0, 0.0, 0.0, ...]\n",
              "26                                                                                                                                                                                                                                                                                                                                                                                                                                                                                                                            [0.0, 0.04997494907379904, 0.0, 0.0, 0.0, 0.0, 0.0, 0.0, 0.0, 0.0, 0.0, 0.0, 0.0, 0.0, 0.0, 0.0, 0.0, 0.10242721282825841, 0.0, 0.0, 0.0, 0.04538028798955426, 0.033983213789073104, 0.0, 0.0, 0.0, 0.0, 0.0, 0.0, 0.0, 0.0, 0.0, 0.0, 0.10853541484086948, 0.0, 0.0, 0.0, 0.0, 0.0, 0.0, 0.0, 0.0, 0.0, 0.0, 0.0, 0.3502500340529183, 0.0, 0.0, 0.0, 0.0, 0.0, 0.17284592164768606, 0.0, 0.0, 0.0, 0.0, 0.0, 0.0, 0.0, 0.0, 0.0, 0.0, 0.0, 0.0, 0.0, 0.0, 0.0, 0.0, 0.0, 0.0, 0.0, 0.0, 0.0, 0.1472059023840696, 0.0, 0.0, 0.0, 0.0, 0.0, 0.0, 0.0, 0.0, 0.0, 0.0, 0.0, 0.0, 0.0, 0.0, 0.5109328551562924, 0.0, 0.1472059023840696, 0.0, 0.0, 0.0, 0.0, 0.08337121042643596, 0.0, 0.0, 0.0, 0.0, ...]\n",
              "27                                                                                                                                                                                                                                                                                                                                                                                                                          [0.0, 0.016658316357933012, 0.0, 0.0, 0.0, 0.0, 0.0, 0.0, 0.5109328551562924, 0.0, 0.0, 0.0, 0.0, 0.0, 0.0, 0.43666338100468055, 0.0, 0.0, 0.03823074332533446, 0.11558526025910394, 0.0, 0.0, 0.033983213789073104, 0.0, 0.0, 0.0, 0.09576654250664954, 0.0, 0.0, 0.0, 0.0, 0.0, 0.2127334420279213, 0.0, 0.0, 0.0, 0.0, 0.0, 0.0, 0.0, 0.3336743296379613, 0.33863690771791555, 0.0, 0.0, 0.0, 0.0, 0.0, 0.0, 0.0, 0.0, 0.10385498508017511, 0.0, 0.0, 0.5109328551562924, 0.0, 0.0, 0.0, 0.32363872872549104, 0.07989740999200112, 0.0, 0.0, 0.0, 0.05964179546429541, 0.0, 0.0, 0.0, 0.07752529631490677, 0.0, 0.0, 0.0, 0.0, 0.0, 0.0, 0.0, 0.0, 0.0, 0.0, 0.0, 0.060297452689371936, 0.0, 0.0, 0.0, 0.0, 0.0, 0.0, 0.0, 0.0, 0.0, 0.0, 0.0, 0.0, 0.0, 0.0, 0.0, 0.0, 0.0, 0.0, 0.0, 0.0, 0.0, ...]\n",
              "28                                                                                                                                                                                                                                                                                                                                                                                                                                                                                                                                                                                                                        [0.0, 0.016658316357933012, 0.0, 0.0, 0.0, 0.0, 0.0, 0.0, 0.0, 0.0, 0.0, 0.0, 0.0, 0.0, 0.0, 0.0, 0.0, 0.0, 0.0, 0.0, 0.0, 0.0, 0.0, 0.0, 0.0, 0.0, 0.09576654250664954, 0.0, 0.0, 0.0, 0.0, 0.0, 0.0, 0.0, 0.0, 0.0, 0.12512501702645917, 0.0, 0.0, 0.0, 0.0, 0.0, 0.07862441100664605, 0.0, 0.0, 0.0, 0.0, 0.0, 0.0, 0.0, 0.0, 0.0, 0.0, 0.0, 0.0, 0.25141224966936154, 0.0, 0.0, 0.0, 0.0, 0.0, 0.0, 0.0, 0.0, 0.0, 0.0, 0.0, 0.0, 0.0, 0.0, 0.0, 0.0, 0.0, 0.0, 0.0, 0.0, 0.0, 0.0, 0.0, 0.0, 0.0, 0.0, 0.0, 0.0, 0.0, 0.0, 0.0, 0.0, 0.0, 0.0, 0.0, 0.0, 0.0, 0.0, 0.0, 0.0, 0.0, 0.0, 0.0, 0.0, ...]\n",
              "29                                                                                                                                                                                                                                                                                                                                                               [0.0, 0.016658316357933012, 0.5109328551562924, 0.0, 0.0, 0.27393397711543244, 0.3430514268055933, 0.0, 0.0, 0.0, 0.0, 0.0, 0.0, 0.0, 0.0, 0.0, 0.0, 0.0, 0.07646148665066892, 0.05779263012955197, 0.0, 0.04538028798955426, 0.23788249652351173, 0.0, 0.0, 0.2127334420279213, 0.0, 0.20020002724233468, 0.0, 0.0, 0.0, 0.0, 0.0, 0.0, 0.0, 0.0, 0.3753750510793775, 0.3502500340529183, 0.0, 0.0, 0.05561238827299354, 0.0, 0.0, 0.2127334420279213, 0.0, 0.0, 0.0, 0.0, 0.0, 0.06304650559587488, 0.10385498508017511, 0.0, 0.0, 0.0, 0.2127334420279213, 0.0, 0.0, 0.0, 0.0, 0.0, 0.0, 0.0, 0.0, 0.0, 0.0, 0.0, 0.07752529631490677, 0.09488467460228817, 0.0, 0.0, 0.0, 0.0, 0.0, 0.0, 0.0, 0.0, 0.12512501702645917, 0.0, 0.0, 0.0, 0.0, 0.0, 0.0, 0.0, 0.0, 0.0, 0.0, 0.0, 0.0, 0.0, 0.0, 0.0, 0.0, 0.0, 0.10364126905421524, 0.0, 0.0, 0.0, 0.0, 0.0, ...]\n",
              "30                                                                                                                                                                                                                                                                                                                                                                                                                             [0.0, 0.06663326543173205, 0.0, 0.0, 0.0, 0.06848349427885811, 0.0, 0.0, 0.0, 0.0, 0.0, 0.0, 0.0, 0.0, 0.0, 0.0, 0.5109328551562924, 0.20485442565651682, 0.11469222997600337, 0.05779263012955197, 0.0, 0.11345071997388566, 0.0, 0.0, 0.0, 0.0, 0.0, 0.20020002724233468, 0.7663992827344386, 0.0, 0.0, 0.0, 0.0, 0.05426770742043474, 0.0, 0.0, 0.0, 0.0, 0.0, 0.0, 0.0, 0.0, 0.0, 0.0, 0.0, 0.0, 0.5109328551562924, 0.0, 0.0, 0.12609301119174976, 0.0, 0.0, 0.0, 0.0, 0.0, 0.0, 0.0, 0.0, 0.0, 0.0, 0.0, 0.0, 0.05964179546429541, 0.14702204005953998, 0.0, 0.0, 0.0, 0.09488467460228817, 0.0, 0.0, 0.0, 0.0, 0.0, 0.2944118047681392, 0.0, 0.0, 0.0, 0.0, 0.0, 0.0, 0.0, 0.0, 0.0, 0.0, 0.0, 0.0, 0.0, 0.0, 0.0, 0.0, 0.0, 0.0, 0.0, 0.0, 0.0, 0.0, 0.0, 0.0, 0.09120431676770942, 0.0, ...]\n",
              "31                                                                                                                                                                                                                                                                                                                                                                                                                                                                             [0.0, 0.0, 0.0, 0.0, 0.0, 0.0, 0.3430514268055933, 0.0, 0.0, 0.0, 0.0, 0.0, 0.0, 0.0, 0.0, 0.0, 0.0, 0.3072816384847752, 0.07646148665066892, 0.11558526025910394, 0.0, 0.11345071997388566, 0.13593285515629241, 0.0, 0.0, 0.0, 0.0, 0.0, 0.0, 0.0, 0.0, 0.0, 0.0, 0.0, 0.0, 0.0, 0.0, 0.0, 0.0, 0.0, 0.0, 0.0, 0.0, 0.0, 0.0, 0.0, 0.0, 0.0, 0.0, 0.0, 0.0, 0.3456918432953721, 0.0, 0.0, 0.0, 0.0, 0.0, 0.0, 0.0, 0.0, 0.0, 0.0, 0.0, 0.14702204005953998, 0.0, 0.0, 0.07752529631490677, 0.2846540238068645, 0.0, 0.0, 0.0, 0.0, 0.0, 0.0, 0.0, 0.0, 0.0, 0.0, 0.24118981075748774, 0.10010001362116734, 0.0, 0.0, 0.0, 0.28374665566547846, 0.0, 0.0, 0.0, 0.0, 0.0, 0.0, 0.0, 0.0, 0.0, 0.0, 0.0, 0.08337121042643596, 0.0, 0.0, 0.0, 0.0, ...]\n",
              "32                                                                                                                                                                                                                                                                                                                                                                                                                                                                                                                                                                                       [0.0, 0.06663326543173205, 0.0, 0.0, 0.0, 0.0, 0.0, 0.0, 0.0, 0.0, 0.0, 0.0, 0.0, 0.0, 0.0, 0.0, 0.0, 0.0, 0.0, 0.0, 0.0, 0.02269014399477713, 0.033983213789073104, 0.0, 0.0, 0.0, 0.0, 0.0, 0.0, 0.0, 0.0, 0.0, 0.0, 0.05426770742043474, 0.0, 0.0, 0.0, 0.0, 0.0, 0.0, 0.0, 0.0, 0.0, 0.0, 0.0, 0.0, 0.0, 0.0, 0.0, 0.0, 0.0, 0.0, 0.0, 0.0, 0.0, 0.0, 0.0, 0.0, 0.07989740999200112, 0.0, 0.0, 0.0, 0.0, 0.0, 0.0, 0.0, 0.07752529631490677, 0.0, 0.0, 0.0, 0.0, 0.0, 0.0, 0.0, 0.0, 0.0, 0.0, 0.0, 0.060297452689371936, 0.0, 0.0, 0.0, 0.0, 0.0, 0.0, 0.0, 0.0, 0.0, 0.0, 0.0, 0.0, 0.0, 0.0, 0.0, 0.0, 0.0, 0.0, 0.0, 0.0, 0.0, ...]\n",
              "33                                                                                                                                                                                                                                                                                                                                                                                                                                                               [0.0, 0.09994989814759808, 0.0, 0.0, 0.0, 0.0, 0.0, 0.0, 0.0, 0.0, 0.0, 0.0, 0.0, 0.0, 0.0, 0.0, 0.0, 0.0, 0.0, 0.05779263012955197, 0.0, 0.0680704319843314, 0.10194964136721932, 0.0, 0.0, 0.0, 0.0, 0.0, 0.0, 0.0, 0.0, 0.0, 0.0, 0.0, 0.0, 0.0, 0.0, 0.3502500340529183, 0.0, 0.0, 0.0, 0.0, 0.0, 0.0, 0.0, 0.0, 0.0, 0.0, 0.0, 0.0, 0.0, 0.17284592164768606, 0.0, 0.0, 0.2127334420279213, 0.0, 0.0, 0.0, 0.0, 0.0, 0.0, 0.0, 0.0, 0.0, 0.0, 0.0, 0.15505059262981355, 0.0, 0.0, 0.0, 0.0, 0.0, 0.0, 0.0, 0.0, 0.0, 0.0, 0.0, 0.0, 0.10010001362116734, 0.14555446033489353, 0.0, 0.0, 0.0, 0.0, 0.0, 0.0, 0.0, 0.0, 0.0, 0.1472059023840696, 0.0, 0.1472059023840696, 0.3502500340529183, 0.10364126905421524, 0.08337121042643596, 0.0, 0.0, 0.0, 0.0, ...]\n",
              "Name: description14, dtype: object"
            ]
          },
          "metadata": {},
          "execution_count": 7
        }
      ]
    },
    {
      "cell_type": "code",
      "source": [
        "from keras.preprocessing import sequence\n",
        "np.set_printoptions(threshold=np.inf)\n",
        "TFC=np.array([i for i in GOFdataset['description14']])\n",
        "print(TFC.shape)\n",
        "\n",
        "x = TFC.reshape(TFC.shape[0], TFC.shape[1], 1)\n",
        "print(x.shape)\n",
        "from sklearn.preprocessing import OneHotEncoder\n",
        "y=np.array([i for i in GOFdataset['label']])\n",
        "print(unique(y))\n"
      ],
      "metadata": {
        "colab": {
          "base_uri": "https://localhost:8080/"
        },
        "id": "fAWGHPfSyl3V",
        "outputId": "c512fcf9-f32e-4cf2-e883-b798b28bd6cf"
      },
      "execution_count": 9,
      "outputs": [
        {
          "output_type": "stream",
          "name": "stdout",
          "text": [
            "(34, 642)\n",
            "(34, 642, 1)\n",
            "[0 1 2 3 4]\n"
          ]
        }
      ]
    },
    {
      "cell_type": "code",
      "source": [
        "from sklearn.model_selection import train_test_split\n",
        "from tensorflow.python.keras.backend import get_session\n",
        "from tensorflow.python.keras.models import Sequential ,load_model\n",
        "from tensorflow.python.keras.layers import Dense\n",
        "from tensorflow.python.keras.layers import Flatten, Dropout, Activation, Input\n",
        "from tensorflow.python.keras.layers.convolutional import Conv1D\n",
        "from tensorflow.python.keras.models import Model\n",
        "from tensorflow.python.keras.layers.convolutional import MaxPooling1D\n",
        "from tensorflow.python.keras.wrappers.scikit_learn import KerasClassifier\n",
        "from tensorflow.python.keras import regularizers\n",
        "from keras import metrics\n",
        "from sklearn.metrics import f1_score\n",
        "from sklearn.tree import DecisionTreeClassifier\n",
        "from sklearn.naive_bayes import MultinomialNB\n",
        "from sklearn.neighbors import KNeighborsClassifier\n",
        "from sklearn.model_selection import KFold \n",
        "from sklearn.preprocessing import MinMaxScaler\n",
        "reset_seeds() \n",
        "model = Sequential()\n",
        "init=keras.initializers.HeNormal(seed=None)\n",
        "bias=keras.initializers.Constant()\n",
        "model.add(Conv1D(filters=64, kernel_size=2, padding='same', kernel_initializer=keras.initializers.HeNormal     (),input_shape=(642,1)))\n",
        "model.add(Activation('relu'))\n",
        "model.add(Conv1D(filters=64, kernel_size=2, padding='same', kernel_initializer=keras.initializers.HeNormal     ()))\n",
        "model.add(Activation('relu'))\n",
        "model.add(MaxPooling1D(pool_size=10,  data_format='channels_last'))\n",
        "model.add(Dropout(0.2))\n",
        "model.add(Flatten())\n",
        "model.add(Dense(642,  bias_initializer=bias,name='Dense_2'))\n",
        "model.add(Activation('relu'))\n",
        "reset_seeds() \n",
        "feature_vectors_model = Model(inputs=model.input, outputs=model.get_layer('Dense_2').output)\n",
        "dtc_features = feature_vectors_model.predict(x) # fit your decision tree on this data\n",
        "scaler = MinMaxScaler()\n",
        "scaled= scaler.fit_transform(dtc_features)\n",
        "scores = []\n",
        "best_svr = MultinomialNB()\n",
        "cv = KFold(n_splits=10, shuffle=True)\n",
        "for train_index, test_index in cv.split(scaled,y):\n",
        "    X_train, X_test, y_train, y_test = train_test_split(scaled, y, test_size=0.30,  stratify=y)\n",
        "    best_svr.fit(X_train, y_train)\n",
        "    pred=(best_svr.predict(X_test))\n",
        "    scores.append(f1_score(y_test, pred, average='micro'))\n",
        "print(np.mean(scores))\n",
        "print((scores))"
      ],
      "metadata": {
        "colab": {
          "base_uri": "https://localhost:8080/"
        },
        "id": "1KD4XE8OymFf",
        "outputId": "b23b75d4-d30c-48ea-e830-fdb7bf0f52d6"
      },
      "execution_count": 48,
      "outputs": [
        {
          "output_type": "stream",
          "name": "stdout",
          "text": [
            "0.7272727272727273\n",
            "[0.9090909090909091, 0.8181818181818182, 0.7272727272727273, 0.7272727272727273, 0.8181818181818182, 0.7272727272727273, 0.8181818181818182, 0.5454545454545454, 0.7272727272727273, 0.45454545454545453]\n"
          ]
        }
      ]
    },
    {
      "cell_type": "code",
      "source": [],
      "metadata": {
        "id": "vHYSRSgZ_-wS"
      },
      "execution_count": null,
      "outputs": []
    },
    {
      "cell_type": "code",
      "source": [],
      "metadata": {
        "id": "IKC-GPERymQ4"
      },
      "execution_count": null,
      "outputs": []
    },
    {
      "cell_type": "code",
      "source": [],
      "metadata": {
        "id": "S_KxlQFlGW0V"
      },
      "execution_count": null,
      "outputs": []
    },
    {
      "cell_type": "code",
      "source": [],
      "metadata": {
        "id": "d6lFPoQnGW8u"
      },
      "execution_count": null,
      "outputs": []
    },
    {
      "cell_type": "code",
      "source": [
        "scores = []\n",
        "best_svr = MultinomialNB()\n",
        "X_train, X_test, y_train, y_test = train_test_split(scaled, y, test_size=0.34, shuffle=False)\n",
        "best_svr.fit(X_train, y_train)\n",
        "pred=(best_svr.predict(X_test))\n",
        "scores=(f1_score(y_test, pred, average='micro'))\n",
        "print(scores)"
      ],
      "metadata": {
        "id": "1r4wO5oZGXFI"
      },
      "execution_count": null,
      "outputs": []
    }
  ]
}